{
 "cells": [
  {
   "cell_type": "markdown",
   "id": "871b2f21-ef51-4af6-8c55-3b547980699e",
   "metadata": {
    "id": "871b2f21-ef51-4af6-8c55-3b547980699e"
   },
   "source": [
    "# Data Cleaning and Preprocessing Notebook"
   ]
  },
  {
   "cell_type": "markdown",
   "id": "e94af0e6-7fb6-4116-a2a7-0d2bd482d909",
   "metadata": {
    "id": "e94af0e6-7fb6-4116-a2a7-0d2bd482d909"
   },
   "source": [
    "## Dataset Description:\n",
    "**Medication Inventory Management Dataset - Michigan Medicine**\n",
    "\n",
    "The dataset contains historical medication inventory and transaction data from Michigan Medicine, covering 3 hospitals, 40 outpatient locations, and over 120 clinics. It includes detailed information on inventory levels, transactions (picks, restocks, wastes, etc.), medication details, locations, and costs."
   ]
  },
  {
   "cell_type": "markdown",
   "id": "c5e1669b-d52c-44e1-86d9-810818404062",
   "metadata": {
    "id": "c5e1669b-d52c-44e1-86d9-810818404062"
   },
   "source": [
    "|                  |                                                     |\n",
    "|--------------------------|---------------------------------------------------------------|\n",
    "| **Estimated size**       | 3,807,314 rows and multiple columns (approximately 1GB)       |\n",
    "| **Format**               | Comma Separated Values (.csv)                                 |\n",
    "| **Location & Access**    | Access provided by the Pharmacy Manager (Michigan Medicine - Pharmacy Administration) |"
   ]
  },
  {
   "cell_type": "markdown",
   "id": "befda42d-4836-4e4e-8768-66adddc1d7d7",
   "metadata": {
    "id": "befda42d-4836-4e4e-8768-66adddc1d7d7"
   },
   "source": [
    "### More About the Variables\n",
    "| Column Name             | Description                                                                                             |\n",
    "|:------------------------|:--------------------------------------------------------------------------------------------------------|\n",
    "| **daily_inv_location**  | The physical location where inventory was counted on a given day.                                       |\n",
    "| **daily_inv_date**      | The date of the inventory count.                                                                        |\n",
    "| **isa_name**            | The name of the inventory storage area.                                                                 |\n",
    "| **daily_inv_med_id**    | A unique identifier for the medication counted during inventory.                                        |\n",
    "| **med_id_clean**        | A standardized version of the medication identifier. Often combines multiple med_id that are suffixed into one unit. |\n",
    "| **med_description**     | A brief description of the medication.                                                                  |\n",
    "| **first_count_of_day**  | The initial count of the medication on the inventory date.                                              |\n",
    "| **last_count_of_day**   | The final count of the medication on the inventory date.                                                |\n",
    "| **next_daily_inv_date** | The date of the next transaction (and therefore inventory change).                                      |\n",
    "| **calendar_dt**         | A specific calendar date for reference. Should always be present regardless of whether there is a transaction for the med on a given day. |\n",
    "| **pick**                | The quantity of medication picked from inventory.                                                       |\n",
    "| **cycle_count**         | The quantity of medication cycle counted.                                                               |\n",
    "| **waste**               | The quantity of medication wasted or discarded.                                                         |\n",
    "| **destock**             | The quantity of medication removed from active inventory.                                               |\n",
    "| **batch_pick**          | The quantity of medication picked in a batch process.                                                   |\n",
    "| **load**                | The quantity of medication loaded into a dispensing system.                                             |\n",
    "| **inventory**           | The total quantity of medication processed using the inventory function.                                |\n",
    "| **restock**             | The quantity of medication added back into inventory.                                                   |\n",
    "| **current_inv_med_id**  | The current unique identifier for the medication in inventory.                                          |\n",
    "| **current_inv_location**| The current location of the medication in inventory.                                                    |\n",
    "| **current_inv_min**     | The minimum quantity of the medication to be kept in inventory. Inventory below this value will create an order for restock. |\n",
    "| **current_inv_max**     | The maximum quantity of the medication to be kept in inventory. This is the order up to level.          |\n",
    "| **current_inv_qoh**     | The current quantity on hand (QOH) of the medication.                                                   |\n",
    "| **pref_ndc_vendor_name**| The preferred vendor's name for the medication's National Drug Code (NDC).                              |\n",
    "| **pref_ndc_package_size**| The preferred package size associated with the medication's NDC.                                       |\n",
    "| **pref_ndc**            | The preferred National Drug Code (NDC) for the medication.                                              |\n",
    "| **scd_name**            | The Standardized Concept Drug (SCD) name from RxNorm.                                                   |\n",
    "| **scd_rxcui**           | The RxNorm Concept Unique Identifier (RxCUI) for the SCD.                                               |\n",
    "| **in_min_name**         | The Ingredient Minimum (IN) name from RxNorm.                                                           |\n",
    "| **in_min_rxcui**        | The RxNorm Concept Unique Identifier (RxCUI) for the IN.                                                |\n",
    "| **source_description**  | A description of the med from the source system.                                                        |\n"
   ]
  },
  {
   "cell_type": "markdown",
   "id": "8d722484-22d1-47a0-905c-dac77b814b5b",
   "metadata": {
    "id": "8d722484-22d1-47a0-905c-dac77b814b5b"
   },
   "source": [
    "### Key Variables\n",
    "|                          |                                                                                                         |\n",
    "|:-------------------------|:--------------------------------------------------------------------------------------------------------|\n",
    "| **calendar_dt**       | This will be crucial for time-based analysis and seasonality detection                                  |\n",
    "| **daily_inv_med_id**         | Unique medication identifier that also distinguishes whether the medication is sourced from a bulk or non-bulk container. |\n",
    "| **med_id_clean**         | Standardized medication identifier, agnostic of source container size. This will be crucial for consistent analysis across different medication types |\n",
    "| **pick**                 | Best surrogate for what left the inventory system. This will be key for demand forecasting              |\n",
    "| **current_inv_min & current_inv_max** | This will be important for understanding whether individual medications are at a surplus, ideal, or scarce level of inventory.         |"
   ]
  },
  {
   "cell_type": "markdown",
   "id": "ba930210-3224-4437-a865-ad31d6feda15",
   "metadata": {
    "id": "ba930210-3224-4437-a865-ad31d6feda15"
   },
   "source": [
    "### Key Considerations\n",
    "\n",
    "|                  |                                                     |\n",
    "|--------------------------|---------------------------------------------------------------|\n",
    "| **Geographic Scope:** | Single health system in Michigan, with a central pharmacy distributing to multiple locations       |\n",
    "| **Business Objective:** | Forecast future demand for medications. Provide strategic recommendations on inventory management to help reduce waste while minimizing stockouts.       |\n",
    "| **Key Metrics:** | Picks, days sales inventory, stockout rate, scarce inventory rate, inventory turnover rate, and mean inventory, and coefficient of variation of daily picks; seasonality metrics       |\n",
    "| **Potential Factors:** | Spikes in inventory followed by long drifts down may indicate bulk buys due to anticipated shortages |\n",
    "| **Stockouts** | Can be caused by supply shortages, but we don't have data on shortage timelines                                 |"
   ]
  },
  {
   "cell_type": "markdown",
   "id": "90c07cca-88e7-4e75-a746-1988f883d120",
   "metadata": {
    "id": "90c07cca-88e7-4e75-a746-1988f883d120"
   },
   "source": [
    "## Setup and Data Loading:\n",
    "### Import Libraries\n",
    "To start data cleaning and manipulation, we are going to import and install some helper libraries that we will need to process the\n",
    " data."
   ]
  },
  {
   "cell_type": "code",
   "execution_count": 23,
   "id": "52bcaacb",
   "metadata": {},
   "outputs": [
    {
     "name": "stdout",
     "output_type": "stream",
     "text": [
      "The nb_black extension is already loaded. To reload it, use:\n",
      "  %reload_ext nb_black\n"
     ]
    },
    {
     "data": {
      "application/javascript": [
       "\n",
       "            setTimeout(function() {\n",
       "                var nbb_cell_id = 23;\n",
       "                var nbb_unformatted_code = \"# Load black to help with notebook formatting\\n%load_ext nb_black\";\n",
       "                var nbb_formatted_code = \"# Load black to help with notebook formatting\\n%load_ext nb_black\";\n",
       "                var nbb_cells = Jupyter.notebook.get_cells();\n",
       "                for (var i = 0; i < nbb_cells.length; ++i) {\n",
       "                    if (nbb_cells[i].input_prompt_number == nbb_cell_id) {\n",
       "                        if (nbb_cells[i].get_text() == nbb_unformatted_code) {\n",
       "                             nbb_cells[i].set_text(nbb_formatted_code);\n",
       "                        }\n",
       "                        break;\n",
       "                    }\n",
       "                }\n",
       "            }, 500);\n",
       "            "
      ],
      "text/plain": [
       "<IPython.core.display.Javascript object>"
      ]
     },
     "metadata": {},
     "output_type": "display_data"
    }
   ],
   "source": [
    "# Load black to help with notebook formatting\n",
    "%load_ext nb_black"
   ]
  },
  {
   "cell_type": "code",
   "execution_count": 24,
   "id": "576a7db4-8497-47dd-888f-9d992645d49b",
   "metadata": {
    "executionInfo": {
     "elapsed": 2029,
     "status": "ok",
     "timestamp": 1723000315449,
     "user": {
      "displayName": "Kevin Steidler",
      "userId": "01990731876004348216"
     },
     "user_tz": 240
    },
    "id": "576a7db4-8497-47dd-888f-9d992645d49b"
   },
   "outputs": [
    {
     "data": {
      "application/javascript": [
       "\n",
       "            setTimeout(function() {\n",
       "                var nbb_cell_id = 24;\n",
       "                var nbb_unformatted_code = \"import re\\nimport pandas as pd\\nimport numpy as np\\nimport matplotlib.pyplot as plt\\nimport seaborn as sns\\nfrom scipy.stats import skew, kurtosis\\n\\npd.set_option(\\\"display.max_columns\\\", None)\";\n",
       "                var nbb_formatted_code = \"import re\\nimport pandas as pd\\nimport numpy as np\\nimport matplotlib.pyplot as plt\\nimport seaborn as sns\\nfrom scipy.stats import skew, kurtosis\\n\\npd.set_option(\\\"display.max_columns\\\", None)\";\n",
       "                var nbb_cells = Jupyter.notebook.get_cells();\n",
       "                for (var i = 0; i < nbb_cells.length; ++i) {\n",
       "                    if (nbb_cells[i].input_prompt_number == nbb_cell_id) {\n",
       "                        if (nbb_cells[i].get_text() == nbb_unformatted_code) {\n",
       "                             nbb_cells[i].set_text(nbb_formatted_code);\n",
       "                        }\n",
       "                        break;\n",
       "                    }\n",
       "                }\n",
       "            }, 500);\n",
       "            "
      ],
      "text/plain": [
       "<IPython.core.display.Javascript object>"
      ]
     },
     "metadata": {},
     "output_type": "display_data"
    }
   ],
   "source": [
    "import re\n",
    "import pandas as pd\n",
    "import numpy as np\n",
    "import matplotlib.pyplot as plt\n",
    "import seaborn as sns\n",
    "from scipy.stats import skew, kurtosis\n",
    "\n",
    "pd.set_option(\"display.max_columns\", None)"
   ]
  },
  {
   "cell_type": "markdown",
   "id": "5f6677a3-1913-4737-a271-1f7bd748b8af",
   "metadata": {
    "id": "5f6677a3-1913-4737-a271-1f7bd748b8af"
   },
   "source": [
    "### Load Dataset\n",
    "Next, we are going to load the dataset and examine its structure, including its shape, column names, and data types."
   ]
  },
  {
   "cell_type": "code",
   "execution_count": 25,
   "id": "07b03105-ecf2-4540-b1a8-939573fa2b1b",
   "metadata": {
    "colab": {
     "base_uri": "https://localhost:8080/"
    },
    "executionInfo": {
     "elapsed": 30628,
     "status": "ok",
     "timestamp": 1723000365461,
     "user": {
      "displayName": "Kevin Steidler",
      "userId": "01990731876004348216"
     },
     "user_tz": 240
    },
    "id": "07b03105-ecf2-4540-b1a8-939573fa2b1b",
    "outputId": "39b92a89-c24a-49a9-b972-3a9de3d96a8d"
   },
   "outputs": [
    {
     "name": "stderr",
     "output_type": "stream",
     "text": [
      "C:\\Users\\ksteidler\\AppData\\Local\\Temp\\ipykernel_21032\\2419003308.py:1: DtypeWarning: Columns (2,3,4,18,19,24,27,29,31) have mixed types. Specify dtype option on import or set low_memory=False.\n",
      "  raw_data = pd.read_csv(\n"
     ]
    },
    {
     "data": {
      "application/javascript": [
       "\n",
       "            setTimeout(function() {\n",
       "                var nbb_cell_id = 25;\n",
       "                var nbb_unformatted_code = \"raw_data = pd.read_csv(\\n    \\\"../inputs/pharmacy_central_inventory_and_transactions_by_date.csv\\\",\\n)\";\n",
       "                var nbb_formatted_code = \"raw_data = pd.read_csv(\\n    \\\"../inputs/pharmacy_central_inventory_and_transactions_by_date.csv\\\",\\n)\";\n",
       "                var nbb_cells = Jupyter.notebook.get_cells();\n",
       "                for (var i = 0; i < nbb_cells.length; ++i) {\n",
       "                    if (nbb_cells[i].input_prompt_number == nbb_cell_id) {\n",
       "                        if (nbb_cells[i].get_text() == nbb_unformatted_code) {\n",
       "                             nbb_cells[i].set_text(nbb_formatted_code);\n",
       "                        }\n",
       "                        break;\n",
       "                    }\n",
       "                }\n",
       "            }, 500);\n",
       "            "
      ],
      "text/plain": [
       "<IPython.core.display.Javascript object>"
      ]
     },
     "metadata": {},
     "output_type": "display_data"
    }
   ],
   "source": [
    "raw_data = pd.read_csv(\n",
    "    \"../inputs/pharmacy_central_inventory_and_transactions_by_date.csv\",\n",
    ")"
   ]
  },
  {
   "cell_type": "code",
   "execution_count": 26,
   "id": "llFe7biZ6txN",
   "metadata": {
    "colab": {
     "base_uri": "https://localhost:8080/",
     "height": 521
    },
    "executionInfo": {
     "elapsed": 460,
     "status": "ok",
     "timestamp": 1723000365915,
     "user": {
      "displayName": "Kevin Steidler",
      "userId": "01990731876004348216"
     },
     "user_tz": 240
    },
    "id": "llFe7biZ6txN",
    "outputId": "776586c0-c31e-4f34-c9bf-2f7eabddd3b7"
   },
   "outputs": [
    {
     "name": "stdout",
     "output_type": "stream",
     "text": [
      "Dataset shape: (3807314, 32)\n",
      "First few rows of the dataset:\n"
     ]
    },
    {
     "data": {
      "text/html": [
       "<div>\n",
       "<style scoped>\n",
       "    .dataframe tbody tr th:only-of-type {\n",
       "        vertical-align: middle;\n",
       "    }\n",
       "\n",
       "    .dataframe tbody tr th {\n",
       "        vertical-align: top;\n",
       "    }\n",
       "\n",
       "    .dataframe thead th {\n",
       "        text-align: right;\n",
       "    }\n",
       "</style>\n",
       "<table border=\"1\" class=\"dataframe\">\n",
       "  <thead>\n",
       "    <tr style=\"text-align: right;\">\n",
       "      <th></th>\n",
       "      <th>daily_inv_location</th>\n",
       "      <th>daily_inv_date</th>\n",
       "      <th>isa_name</th>\n",
       "      <th>daily_inv_med_id</th>\n",
       "      <th>med_id_clean</th>\n",
       "      <th>med_description</th>\n",
       "      <th>first_count_of_day</th>\n",
       "      <th>last_count_of_day</th>\n",
       "      <th>next_daily_inv_date</th>\n",
       "      <th>calendar_dt</th>\n",
       "      <th>pick</th>\n",
       "      <th>cycle_count</th>\n",
       "      <th>waste</th>\n",
       "      <th>destock</th>\n",
       "      <th>batch_pick</th>\n",
       "      <th>load</th>\n",
       "      <th>inventory</th>\n",
       "      <th>restock</th>\n",
       "      <th>current_inv_med_id</th>\n",
       "      <th>current_inv_location</th>\n",
       "      <th>current_inv_min</th>\n",
       "      <th>current_inv_max</th>\n",
       "      <th>current_inv_qoh</th>\n",
       "      <th>reviewed_number</th>\n",
       "      <th>pref_ndc_vendor_name</th>\n",
       "      <th>pref_ndc_package_size</th>\n",
       "      <th>pref_ndc</th>\n",
       "      <th>scd_name</th>\n",
       "      <th>scd_rxcui</th>\n",
       "      <th>in_min_name</th>\n",
       "      <th>in_min_rxcui</th>\n",
       "      <th>source_description</th>\n",
       "    </tr>\n",
       "  </thead>\n",
       "  <tbody>\n",
       "    <tr>\n",
       "      <th>0</th>\n",
       "      <td>2C224-01-01-01-01</td>\n",
       "      <td>2022-03-14</td>\n",
       "      <td>NaN</td>\n",
       "      <td>001185</td>\n",
       "      <td>001185</td>\n",
       "      <td>sodium bicarbonate 8.4 % solution - 50 mL vial</td>\n",
       "      <td>21909.0</td>\n",
       "      <td>22909.0</td>\n",
       "      <td>2022-03-15</td>\n",
       "      <td>2022-03-14 00:00:00.000</td>\n",
       "      <td>-25.0</td>\n",
       "      <td>NaN</td>\n",
       "      <td>NaN</td>\n",
       "      <td>NaN</td>\n",
       "      <td>NaN</td>\n",
       "      <td>NaN</td>\n",
       "      <td>NaN</td>\n",
       "      <td>1000.0</td>\n",
       "      <td>NaN</td>\n",
       "      <td>NaN</td>\n",
       "      <td>NaN</td>\n",
       "      <td>NaN</td>\n",
       "      <td>NaN</td>\n",
       "      <td>3.22</td>\n",
       "      <td>AB Short A</td>\n",
       "      <td>25.0</td>\n",
       "      <td>409662514.0</td>\n",
       "      <td>NaN</td>\n",
       "      <td>NaN</td>\n",
       "      <td>NaN</td>\n",
       "      <td>NaN</td>\n",
       "      <td>NaN</td>\n",
       "    </tr>\n",
       "    <tr>\n",
       "      <th>1</th>\n",
       "      <td>2C224-01-01-01-01</td>\n",
       "      <td>2022-03-15</td>\n",
       "      <td>NaN</td>\n",
       "      <td>001185</td>\n",
       "      <td>001185</td>\n",
       "      <td>sodium bicarbonate 8.4 % solution - 50 mL vial</td>\n",
       "      <td>22909.0</td>\n",
       "      <td>22509.0</td>\n",
       "      <td>2022-03-16</td>\n",
       "      <td>2022-03-15 00:00:00.000</td>\n",
       "      <td>-424.0</td>\n",
       "      <td>NaN</td>\n",
       "      <td>NaN</td>\n",
       "      <td>NaN</td>\n",
       "      <td>NaN</td>\n",
       "      <td>NaN</td>\n",
       "      <td>NaN</td>\n",
       "      <td>NaN</td>\n",
       "      <td>NaN</td>\n",
       "      <td>NaN</td>\n",
       "      <td>NaN</td>\n",
       "      <td>NaN</td>\n",
       "      <td>NaN</td>\n",
       "      <td>3.22</td>\n",
       "      <td>AB Short A</td>\n",
       "      <td>25.0</td>\n",
       "      <td>409662514.0</td>\n",
       "      <td>NaN</td>\n",
       "      <td>NaN</td>\n",
       "      <td>NaN</td>\n",
       "      <td>NaN</td>\n",
       "      <td>NaN</td>\n",
       "    </tr>\n",
       "    <tr>\n",
       "      <th>2</th>\n",
       "      <td>2C224-01-01-01-01</td>\n",
       "      <td>2022-03-16</td>\n",
       "      <td>NaN</td>\n",
       "      <td>001185</td>\n",
       "      <td>001185</td>\n",
       "      <td>sodium bicarbonate 8.4 % solution - 50 mL vial</td>\n",
       "      <td>22509.0</td>\n",
       "      <td>22509.0</td>\n",
       "      <td>2022-03-17</td>\n",
       "      <td>2022-03-16 00:00:00.000</td>\n",
       "      <td>-20.0</td>\n",
       "      <td>NaN</td>\n",
       "      <td>NaN</td>\n",
       "      <td>NaN</td>\n",
       "      <td>NaN</td>\n",
       "      <td>NaN</td>\n",
       "      <td>NaN</td>\n",
       "      <td>NaN</td>\n",
       "      <td>NaN</td>\n",
       "      <td>NaN</td>\n",
       "      <td>NaN</td>\n",
       "      <td>NaN</td>\n",
       "      <td>NaN</td>\n",
       "      <td>3.22</td>\n",
       "      <td>AB Short A</td>\n",
       "      <td>25.0</td>\n",
       "      <td>409662514.0</td>\n",
       "      <td>NaN</td>\n",
       "      <td>NaN</td>\n",
       "      <td>NaN</td>\n",
       "      <td>NaN</td>\n",
       "      <td>NaN</td>\n",
       "    </tr>\n",
       "    <tr>\n",
       "      <th>3</th>\n",
       "      <td>2C224-01-01-01-01</td>\n",
       "      <td>2022-03-17</td>\n",
       "      <td>NaN</td>\n",
       "      <td>001185</td>\n",
       "      <td>001185</td>\n",
       "      <td>sodium bicarbonate 8.4 % solution - 50 mL vial</td>\n",
       "      <td>22509.0</td>\n",
       "      <td>22009.0</td>\n",
       "      <td>2022-03-20</td>\n",
       "      <td>2022-03-17 00:00:00.000</td>\n",
       "      <td>-618.0</td>\n",
       "      <td>NaN</td>\n",
       "      <td>NaN</td>\n",
       "      <td>NaN</td>\n",
       "      <td>NaN</td>\n",
       "      <td>NaN</td>\n",
       "      <td>NaN</td>\n",
       "      <td>NaN</td>\n",
       "      <td>NaN</td>\n",
       "      <td>NaN</td>\n",
       "      <td>NaN</td>\n",
       "      <td>NaN</td>\n",
       "      <td>NaN</td>\n",
       "      <td>3.22</td>\n",
       "      <td>AB Short A</td>\n",
       "      <td>25.0</td>\n",
       "      <td>409662514.0</td>\n",
       "      <td>NaN</td>\n",
       "      <td>NaN</td>\n",
       "      <td>NaN</td>\n",
       "      <td>NaN</td>\n",
       "      <td>NaN</td>\n",
       "    </tr>\n",
       "    <tr>\n",
       "      <th>4</th>\n",
       "      <td>2C224-01-01-01-01</td>\n",
       "      <td>2022-03-17</td>\n",
       "      <td>NaN</td>\n",
       "      <td>001185</td>\n",
       "      <td>001185</td>\n",
       "      <td>sodium bicarbonate 8.4 % solution - 50 mL vial</td>\n",
       "      <td>22009.0</td>\n",
       "      <td>22009.0</td>\n",
       "      <td>2022-03-20</td>\n",
       "      <td>2022-03-18 00:00:00.000</td>\n",
       "      <td>NaN</td>\n",
       "      <td>NaN</td>\n",
       "      <td>NaN</td>\n",
       "      <td>NaN</td>\n",
       "      <td>NaN</td>\n",
       "      <td>NaN</td>\n",
       "      <td>NaN</td>\n",
       "      <td>NaN</td>\n",
       "      <td>NaN</td>\n",
       "      <td>NaN</td>\n",
       "      <td>NaN</td>\n",
       "      <td>NaN</td>\n",
       "      <td>NaN</td>\n",
       "      <td>3.22</td>\n",
       "      <td>AB Short A</td>\n",
       "      <td>25.0</td>\n",
       "      <td>409662514.0</td>\n",
       "      <td>NaN</td>\n",
       "      <td>NaN</td>\n",
       "      <td>NaN</td>\n",
       "      <td>NaN</td>\n",
       "      <td>NaN</td>\n",
       "    </tr>\n",
       "  </tbody>\n",
       "</table>\n",
       "</div>"
      ],
      "text/plain": [
       "  daily_inv_location daily_inv_date isa_name daily_inv_med_id med_id_clean  \\\n",
       "0  2C224-01-01-01-01     2022-03-14      NaN           001185       001185   \n",
       "1  2C224-01-01-01-01     2022-03-15      NaN           001185       001185   \n",
       "2  2C224-01-01-01-01     2022-03-16      NaN           001185       001185   \n",
       "3  2C224-01-01-01-01     2022-03-17      NaN           001185       001185   \n",
       "4  2C224-01-01-01-01     2022-03-17      NaN           001185       001185   \n",
       "\n",
       "                                  med_description  first_count_of_day  \\\n",
       "0  sodium bicarbonate 8.4 % solution - 50 mL vial             21909.0   \n",
       "1  sodium bicarbonate 8.4 % solution - 50 mL vial             22909.0   \n",
       "2  sodium bicarbonate 8.4 % solution - 50 mL vial             22509.0   \n",
       "3  sodium bicarbonate 8.4 % solution - 50 mL vial             22509.0   \n",
       "4  sodium bicarbonate 8.4 % solution - 50 mL vial             22009.0   \n",
       "\n",
       "   last_count_of_day next_daily_inv_date              calendar_dt   pick  \\\n",
       "0            22909.0          2022-03-15  2022-03-14 00:00:00.000  -25.0   \n",
       "1            22509.0          2022-03-16  2022-03-15 00:00:00.000 -424.0   \n",
       "2            22509.0          2022-03-17  2022-03-16 00:00:00.000  -20.0   \n",
       "3            22009.0          2022-03-20  2022-03-17 00:00:00.000 -618.0   \n",
       "4            22009.0          2022-03-20  2022-03-18 00:00:00.000    NaN   \n",
       "\n",
       "   cycle_count  waste  destock  batch_pick  load  inventory  restock  \\\n",
       "0          NaN    NaN      NaN         NaN   NaN        NaN   1000.0   \n",
       "1          NaN    NaN      NaN         NaN   NaN        NaN      NaN   \n",
       "2          NaN    NaN      NaN         NaN   NaN        NaN      NaN   \n",
       "3          NaN    NaN      NaN         NaN   NaN        NaN      NaN   \n",
       "4          NaN    NaN      NaN         NaN   NaN        NaN      NaN   \n",
       "\n",
       "  current_inv_med_id current_inv_location  current_inv_min  current_inv_max  \\\n",
       "0                NaN                  NaN              NaN              NaN   \n",
       "1                NaN                  NaN              NaN              NaN   \n",
       "2                NaN                  NaN              NaN              NaN   \n",
       "3                NaN                  NaN              NaN              NaN   \n",
       "4                NaN                  NaN              NaN              NaN   \n",
       "\n",
       "   current_inv_qoh  reviewed_number pref_ndc_vendor_name  \\\n",
       "0              NaN             3.22           AB Short A   \n",
       "1              NaN             3.22           AB Short A   \n",
       "2              NaN             3.22           AB Short A   \n",
       "3              NaN             3.22           AB Short A   \n",
       "4              NaN             3.22           AB Short A   \n",
       "\n",
       "   pref_ndc_package_size     pref_ndc scd_name  scd_rxcui in_min_name  \\\n",
       "0                   25.0  409662514.0      NaN        NaN         NaN   \n",
       "1                   25.0  409662514.0      NaN        NaN         NaN   \n",
       "2                   25.0  409662514.0      NaN        NaN         NaN   \n",
       "3                   25.0  409662514.0      NaN        NaN         NaN   \n",
       "4                   25.0  409662514.0      NaN        NaN         NaN   \n",
       "\n",
       "   in_min_rxcui source_description  \n",
       "0           NaN                NaN  \n",
       "1           NaN                NaN  \n",
       "2           NaN                NaN  \n",
       "3           NaN                NaN  \n",
       "4           NaN                NaN  "
      ]
     },
     "execution_count": 26,
     "metadata": {},
     "output_type": "execute_result"
    },
    {
     "data": {
      "application/javascript": [
       "\n",
       "            setTimeout(function() {\n",
       "                var nbb_cell_id = 26;\n",
       "                var nbb_unformatted_code = \"data = raw_data.copy()\\nprint(f\\\"Dataset shape: {data.shape}\\\")\\nprint(\\\"First few rows of the dataset:\\\")\\ndata.head(5)\";\n",
       "                var nbb_formatted_code = \"data = raw_data.copy()\\nprint(f\\\"Dataset shape: {data.shape}\\\")\\nprint(\\\"First few rows of the dataset:\\\")\\ndata.head(5)\";\n",
       "                var nbb_cells = Jupyter.notebook.get_cells();\n",
       "                for (var i = 0; i < nbb_cells.length; ++i) {\n",
       "                    if (nbb_cells[i].input_prompt_number == nbb_cell_id) {\n",
       "                        if (nbb_cells[i].get_text() == nbb_unformatted_code) {\n",
       "                             nbb_cells[i].set_text(nbb_formatted_code);\n",
       "                        }\n",
       "                        break;\n",
       "                    }\n",
       "                }\n",
       "            }, 500);\n",
       "            "
      ],
      "text/plain": [
       "<IPython.core.display.Javascript object>"
      ]
     },
     "metadata": {},
     "output_type": "display_data"
    }
   ],
   "source": [
    "data = raw_data.copy()\n",
    "print(f\"Dataset shape: {data.shape}\")\n",
    "print(\"First few rows of the dataset:\")\n",
    "data.head(5)"
   ]
  },
  {
   "cell_type": "code",
   "execution_count": 27,
   "id": "f9f999ff-7ccb-4f5f-999c-ce8481be05fe",
   "metadata": {
    "colab": {
     "base_uri": "https://localhost:8080/"
    },
    "executionInfo": {
     "elapsed": 43,
     "status": "ok",
     "timestamp": 1723000365915,
     "user": {
      "displayName": "Kevin Steidler",
      "userId": "01990731876004348216"
     },
     "user_tz": 240
    },
    "id": "f9f999ff-7ccb-4f5f-999c-ce8481be05fe",
    "outputId": "7ba9f86d-955f-4774-f3a2-698687b0a1f0"
   },
   "outputs": [
    {
     "name": "stdout",
     "output_type": "stream",
     "text": [
      "<class 'pandas.core.frame.DataFrame'>\n",
      "RangeIndex: 3807314 entries, 0 to 3807313\n",
      "Data columns (total 32 columns):\n",
      " #   Column                 Dtype  \n",
      "---  ------                 -----  \n",
      " 0   daily_inv_location     object \n",
      " 1   daily_inv_date         object \n",
      " 2   isa_name               object \n",
      " 3   daily_inv_med_id       object \n",
      " 4   med_id_clean           object \n",
      " 5   med_description        object \n",
      " 6   first_count_of_day     float64\n",
      " 7   last_count_of_day      float64\n",
      " 8   next_daily_inv_date    object \n",
      " 9   calendar_dt            object \n",
      " 10  pick                   float64\n",
      " 11  cycle_count            float64\n",
      " 12  waste                  float64\n",
      " 13  destock                float64\n",
      " 14  batch_pick             float64\n",
      " 15  load                   float64\n",
      " 16  inventory              float64\n",
      " 17  restock                float64\n",
      " 18  current_inv_med_id     object \n",
      " 19  current_inv_location   object \n",
      " 20  current_inv_min        float64\n",
      " 21  current_inv_max        float64\n",
      " 22  current_inv_qoh        float64\n",
      " 23  reviewed_number        float64\n",
      " 24  pref_ndc_vendor_name   object \n",
      " 25  pref_ndc_package_size  float64\n",
      " 26  pref_ndc               float64\n",
      " 27  scd_name               object \n",
      " 28  scd_rxcui              float64\n",
      " 29  in_min_name            object \n",
      " 30  in_min_rxcui           float64\n",
      " 31  source_description     object \n",
      "dtypes: float64(18), object(14)\n",
      "memory usage: 929.5+ MB\n"
     ]
    },
    {
     "data": {
      "application/javascript": [
       "\n",
       "            setTimeout(function() {\n",
       "                var nbb_cell_id = 27;\n",
       "                var nbb_unformatted_code = \"data.info()\";\n",
       "                var nbb_formatted_code = \"data.info()\";\n",
       "                var nbb_cells = Jupyter.notebook.get_cells();\n",
       "                for (var i = 0; i < nbb_cells.length; ++i) {\n",
       "                    if (nbb_cells[i].input_prompt_number == nbb_cell_id) {\n",
       "                        if (nbb_cells[i].get_text() == nbb_unformatted_code) {\n",
       "                             nbb_cells[i].set_text(nbb_formatted_code);\n",
       "                        }\n",
       "                        break;\n",
       "                    }\n",
       "                }\n",
       "            }, 500);\n",
       "            "
      ],
      "text/plain": [
       "<IPython.core.display.Javascript object>"
      ]
     },
     "metadata": {},
     "output_type": "display_data"
    }
   ],
   "source": [
    "data.info()"
   ]
  },
  {
   "cell_type": "markdown",
   "id": "392bf282-400e-4b8f-9120-7e805d9a594d",
   "metadata": {
    "id": "392bf282-400e-4b8f-9120-7e805d9a594d"
   },
   "source": [
    "## Data Cleaning and Preprocessing:\n",
    "### Check for Duplicates and Identify Missing Values\n",
    "Next, we will check for duplicate rows to ensure that each row is unique and avoid any redundancy in the dataset."
   ]
  },
  {
   "cell_type": "code",
   "execution_count": 28,
   "id": "a9433a8a-6de0-4eaa-94e9-ea91dab267ac",
   "metadata": {
    "colab": {
     "base_uri": "https://localhost:8080/"
    },
    "executionInfo": {
     "elapsed": 7980,
     "status": "ok",
     "timestamp": 1723000373858,
     "user": {
      "displayName": "Kevin Steidler",
      "userId": "01990731876004348216"
     },
     "user_tz": 240
    },
    "id": "a9433a8a-6de0-4eaa-94e9-ea91dab267ac",
    "outputId": "b60bedb4-5b57-4506-e789-f91f6c390c49"
   },
   "outputs": [
    {
     "name": "stdout",
     "output_type": "stream",
     "text": [
      "Number of duplicate records: 0\n"
     ]
    },
    {
     "data": {
      "application/javascript": [
       "\n",
       "            setTimeout(function() {\n",
       "                var nbb_cell_id = 28;\n",
       "                var nbb_unformatted_code = \"# Check for duplicate records\\nprint(f\\\"Number of duplicate records: {data.duplicated().sum()}\\\")\";\n",
       "                var nbb_formatted_code = \"# Check for duplicate records\\nprint(f\\\"Number of duplicate records: {data.duplicated().sum()}\\\")\";\n",
       "                var nbb_cells = Jupyter.notebook.get_cells();\n",
       "                for (var i = 0; i < nbb_cells.length; ++i) {\n",
       "                    if (nbb_cells[i].input_prompt_number == nbb_cell_id) {\n",
       "                        if (nbb_cells[i].get_text() == nbb_unformatted_code) {\n",
       "                             nbb_cells[i].set_text(nbb_formatted_code);\n",
       "                        }\n",
       "                        break;\n",
       "                    }\n",
       "                }\n",
       "            }, 500);\n",
       "            "
      ],
      "text/plain": [
       "<IPython.core.display.Javascript object>"
      ]
     },
     "metadata": {},
     "output_type": "display_data"
    }
   ],
   "source": [
    "# Check for duplicate records\n",
    "print(f\"Number of duplicate records: {data.duplicated().sum()}\")"
   ]
  },
  {
   "cell_type": "code",
   "execution_count": 29,
   "id": "c7a82f75-11fd-4d96-a8e5-e3092098b3d7",
   "metadata": {
    "colab": {
     "base_uri": "https://localhost:8080/"
    },
    "executionInfo": {
     "elapsed": 3380,
     "status": "ok",
     "timestamp": 1723000377224,
     "user": {
      "displayName": "Kevin Steidler",
      "userId": "01990731876004348216"
     },
     "user_tz": 240
    },
    "id": "c7a82f75-11fd-4d96-a8e5-e3092098b3d7",
    "outputId": "db232fb0-3d65-4890-d54f-fdd66b84b32e"
   },
   "outputs": [
    {
     "data": {
      "text/plain": [
       "daily_inv_location             0\n",
       "daily_inv_date                 0\n",
       "isa_name                 1344638\n",
       "daily_inv_med_id               0\n",
       "med_id_clean               23009\n",
       "med_description            23009\n",
       "first_count_of_day          4450\n",
       "last_count_of_day           3658\n",
       "next_daily_inv_date            0\n",
       "calendar_dt                    0\n",
       "pick                     2889223\n",
       "cycle_count              3779489\n",
       "waste                    3805317\n",
       "destock                  3805036\n",
       "batch_pick               3807314\n",
       "load                     3804828\n",
       "inventory                3777277\n",
       "restock                  3494103\n",
       "current_inv_med_id       1344638\n",
       "current_inv_location     1344638\n",
       "current_inv_min          1344638\n",
       "current_inv_max          1344638\n",
       "current_inv_qoh          1344638\n",
       "reviewed_number          2834014\n",
       "pref_ndc_vendor_name      236635\n",
       "pref_ndc_package_size     236635\n",
       "pref_ndc                  236635\n",
       "scd_name                 2042786\n",
       "scd_rxcui                2042786\n",
       "in_min_name              1754990\n",
       "in_min_rxcui             1754990\n",
       "source_description       1634278\n",
       "dtype: int64"
      ]
     },
     "execution_count": 29,
     "metadata": {},
     "output_type": "execute_result"
    },
    {
     "data": {
      "application/javascript": [
       "\n",
       "            setTimeout(function() {\n",
       "                var nbb_cell_id = 29;\n",
       "                var nbb_unformatted_code = \"# Check for missing values\\ndata.isnull().sum()\";\n",
       "                var nbb_formatted_code = \"# Check for missing values\\ndata.isnull().sum()\";\n",
       "                var nbb_cells = Jupyter.notebook.get_cells();\n",
       "                for (var i = 0; i < nbb_cells.length; ++i) {\n",
       "                    if (nbb_cells[i].input_prompt_number == nbb_cell_id) {\n",
       "                        if (nbb_cells[i].get_text() == nbb_unformatted_code) {\n",
       "                             nbb_cells[i].set_text(nbb_formatted_code);\n",
       "                        }\n",
       "                        break;\n",
       "                    }\n",
       "                }\n",
       "            }, 500);\n",
       "            "
      ],
      "text/plain": [
       "<IPython.core.display.Javascript object>"
      ]
     },
     "metadata": {},
     "output_type": "display_data"
    }
   ],
   "source": [
    "# Check for missing values\n",
    "data.isnull().sum()"
   ]
  },
  {
   "cell_type": "markdown",
   "id": "vCrx8rsgH0cQ",
   "metadata": {
    "id": "vCrx8rsgH0cQ"
   },
   "source": [
    "### Fill in Missing or Inconsistent Inventory Min./Max. Levels\n",
    "\n",
    "For every medication (`daily_inv_med_id`) there should be a specified inventory minimum (`current_inv_min`) and maximum (`current_inv_max`). Generally, a reorder will automatically be triggered upon a medication’s quantity on hand reaching the minimum threshold. By default, the quantity reordered will be whatever volume brings the quantity on hand back to the maximum threshold. However, this can be overridden by whomever is placing the order.\n",
    "While a medication’s min./max. values can fluctuate over time (albeit, not often), the values within the dataset reflect the values at the time at which the data was queried (i.e., historical min./max. values are not maintained)\n",
    "We'll use the following logic to fill in missing values or inconsistent values for each `daily_inv_med_id` value:\n",
    "\n",
    "\n",
    "*   If a medication only has one historic min./max. value, that value will be used to backfill missing values.\n",
    "*   If a medication has multiple historic min./max. values, the most frequent min./max. values will be used to backfill missing values.\n",
    "*   If a medication has no min./max. values:\n",
    "  * We'll use the 5th percentile of all `last_count_of_day` values to estimate the inventory minimum.\n",
    "  *   We'll use the 95th percentile of all `first_count_of_day` values to estimate the inventory maximum.\n",
    "\n",
    "This may beg the question, “Why use the 5th percentile of `last_count_of_day` values as an estimate for the inventory minimum and not the absolute minimum?” We chose to do so because we would expect the lowest `last_count_of_day` values to denote the days when a restock was delayed, thus sinking the inventory volume beneath the true inventory minimum. With this in mind, we opted to use the 5th percentile instead of the 0th percentile (i.e., the absolute minimum) to ensure we did not underestimate the true inventory minimum.\n",
    "\n",
    "Similarly, we chose to use the 95th percentile of `first_count_of_day` values to estimate the maximum inventory level. We did so because we would expect the highest `first_count_of_day values` to denote the days when inventory was intentionally over-stocked, thus pushing the inventory volume above the true inventory maximum. With this in mind, we opted to use the 95th percentile instead of the 100th percentile (i.e., the absolute maximum) to ensure we did not overestimate the true inventory maximum."
   ]
  },
  {
   "cell_type": "code",
   "execution_count": 30,
   "id": "VS707okDG0bm",
   "metadata": {
    "colab": {
     "base_uri": "https://localhost:8080/",
     "height": 257
    },
    "executionInfo": {
     "elapsed": 13808,
     "status": "ok",
     "timestamp": 1723000390998,
     "user": {
      "displayName": "Kevin Steidler",
      "userId": "01990731876004348216"
     },
     "user_tz": 240
    },
    "id": "VS707okDG0bm",
    "outputId": "5c8f083b-7a6d-48c8-fbf8-f36ec232bdf6"
   },
   "outputs": [
    {
     "data": {
      "text/html": [
       "<div>\n",
       "<style scoped>\n",
       "    .dataframe tbody tr th:only-of-type {\n",
       "        vertical-align: middle;\n",
       "    }\n",
       "\n",
       "    .dataframe tbody tr th {\n",
       "        vertical-align: top;\n",
       "    }\n",
       "\n",
       "    .dataframe thead th {\n",
       "        text-align: right;\n",
       "    }\n",
       "</style>\n",
       "<table border=\"1\" class=\"dataframe\">\n",
       "  <thead>\n",
       "    <tr style=\"text-align: right;\">\n",
       "      <th></th>\n",
       "      <th>min_nulls</th>\n",
       "      <th>min_unique</th>\n",
       "      <th>min_most_freq</th>\n",
       "      <th>last_ct_percentile</th>\n",
       "      <th>max_nulls</th>\n",
       "      <th>max_unique</th>\n",
       "      <th>max_most_freq</th>\n",
       "      <th>first_ct_percentile</th>\n",
       "      <th>clean_current_inv_min</th>\n",
       "      <th>clean_current_inv_max</th>\n",
       "    </tr>\n",
       "    <tr>\n",
       "      <th>daily_inv_med_id</th>\n",
       "      <th></th>\n",
       "      <th></th>\n",
       "      <th></th>\n",
       "      <th></th>\n",
       "      <th></th>\n",
       "      <th></th>\n",
       "      <th></th>\n",
       "      <th></th>\n",
       "      <th></th>\n",
       "      <th></th>\n",
       "    </tr>\n",
       "  </thead>\n",
       "  <tbody>\n",
       "    <tr>\n",
       "      <th>DERM112</th>\n",
       "      <td>755</td>\n",
       "      <td>1</td>\n",
       "      <td>2.0</td>\n",
       "      <td>0.0</td>\n",
       "      <td>755</td>\n",
       "      <td>1</td>\n",
       "      <td>4.0</td>\n",
       "      <td>4.0</td>\n",
       "      <td>2.0</td>\n",
       "      <td>4.0</td>\n",
       "    </tr>\n",
       "    <tr>\n",
       "      <th>P3414</th>\n",
       "      <td>881</td>\n",
       "      <td>0</td>\n",
       "      <td>NaN</td>\n",
       "      <td>0.0</td>\n",
       "      <td>881</td>\n",
       "      <td>0</td>\n",
       "      <td>NaN</td>\n",
       "      <td>0.0</td>\n",
       "      <td>0.0</td>\n",
       "      <td>0.0</td>\n",
       "    </tr>\n",
       "    <tr>\n",
       "      <th>3571221</th>\n",
       "      <td>0</td>\n",
       "      <td>1</td>\n",
       "      <td>15.0</td>\n",
       "      <td>16.0</td>\n",
       "      <td>0</td>\n",
       "      <td>1</td>\n",
       "      <td>57.0</td>\n",
       "      <td>56.0</td>\n",
       "      <td>15.0</td>\n",
       "      <td>57.0</td>\n",
       "    </tr>\n",
       "    <tr>\n",
       "      <th>TEMP021021Z</th>\n",
       "      <td>122</td>\n",
       "      <td>0</td>\n",
       "      <td>NaN</td>\n",
       "      <td>0.0</td>\n",
       "      <td>122</td>\n",
       "      <td>0</td>\n",
       "      <td>NaN</td>\n",
       "      <td>0.0</td>\n",
       "      <td>0.0</td>\n",
       "      <td>0.0</td>\n",
       "    </tr>\n",
       "    <tr>\n",
       "      <th>000346</th>\n",
       "      <td>0</td>\n",
       "      <td>1</td>\n",
       "      <td>300.0</td>\n",
       "      <td>43.0</td>\n",
       "      <td>0</td>\n",
       "      <td>1</td>\n",
       "      <td>400.0</td>\n",
       "      <td>367.0</td>\n",
       "      <td>300.0</td>\n",
       "      <td>400.0</td>\n",
       "    </tr>\n",
       "  </tbody>\n",
       "</table>\n",
       "</div>"
      ],
      "text/plain": [
       "                  min_nulls  min_unique  min_most_freq  last_ct_percentile  \\\n",
       "daily_inv_med_id                                                             \n",
       "DERM112                 755           1            2.0                 0.0   \n",
       "P3414                   881           0            NaN                 0.0   \n",
       "3571221                   0           1           15.0                16.0   \n",
       "TEMP021021Z             122           0            NaN                 0.0   \n",
       "000346                    0           1          300.0                43.0   \n",
       "\n",
       "                  max_nulls  max_unique  max_most_freq  first_ct_percentile  \\\n",
       "daily_inv_med_id                                                              \n",
       "DERM112                 755           1            4.0                  4.0   \n",
       "P3414                   881           0            NaN                  0.0   \n",
       "3571221                   0           1           57.0                 56.0   \n",
       "TEMP021021Z             122           0            NaN                  0.0   \n",
       "000346                    0           1          400.0                367.0   \n",
       "\n",
       "                  clean_current_inv_min  clean_current_inv_max  \n",
       "daily_inv_med_id                                                \n",
       "DERM112                             2.0                    4.0  \n",
       "P3414                               0.0                    0.0  \n",
       "3571221                            15.0                   57.0  \n",
       "TEMP021021Z                         0.0                    0.0  \n",
       "000346                            300.0                  400.0  "
      ]
     },
     "execution_count": 30,
     "metadata": {},
     "output_type": "execute_result"
    },
    {
     "data": {
      "application/javascript": [
       "\n",
       "            setTimeout(function() {\n",
       "                var nbb_cell_id = 30;\n",
       "                var nbb_unformatted_code = \"# We'll create a grouped df of all medications which tracks the following for both the min and max inventory levels:\\n# - Count of null values\\n# - Count of unique values\\n# - Most frequent value\\n# - 5th percentile of the last_count_of_day / 95th percentile of the first_count_of_day\\n\\nmin_max_ref = data.groupby(\\\"daily_inv_med_id\\\").agg(\\n    min_nulls=(\\\"current_inv_min\\\", lambda x: x.isna().sum()),  # Number of null values\\n    min_unique=(\\n        \\\"current_inv_min\\\",\\n        lambda x: x.nunique(dropna=True),\\n    ),  # Number of unique values excluding nulls\\n    min_most_freq=(\\n        \\\"current_inv_min\\\",\\n        lambda x: x.mode().iloc[0] if not x.mode().empty else None,\\n    ),  # Most frequent value\\n    last_ct_percentile=(\\n        \\\"last_count_of_day\\\",\\n        lambda x: x.quantile(0.05),\\n    ),  # 5th percentile\\n    max_nulls=(\\\"current_inv_max\\\", lambda x: x.isna().sum()),  # Number of null values\\n    max_unique=(\\n        \\\"current_inv_max\\\",\\n        lambda x: x.nunique(dropna=True),\\n    ),  # Number of unique values excluding nulls\\n    max_most_freq=(\\n        \\\"current_inv_max\\\",\\n        lambda x: x.mode().iloc[0] if not x.mode().empty else None,\\n    ),  # Most frequent value\\n    first_ct_percentile=(\\n        \\\"first_count_of_day\\\",\\n        lambda x: x.quantile(0.95),\\n    ),  # 95th percentile\\n)\\n\\n# Create new columns to store our \\\"clean\\\" values for the inventory min/max values\\nmin_max_ref[[\\\"clean_current_inv_min\\\", \\\"clean_current_inv_max\\\"]] = None, None\\n\\n# Apply business rules to calculate new inventory minimum levels\\nmin_max_ref[\\\"clean_current_inv_min\\\"] = min_max_ref.apply(\\n    lambda row: (\\n        row[\\\"min_most_freq\\\"]\\n        if pd.notna(row[\\\"min_most_freq\\\"])\\n        else row[\\\"last_ct_percentile\\\"]\\n    ),\\n    axis=1,\\n)\\n\\n# Apply business rules to calculate new inventory maximum levels\\nmin_max_ref[\\\"clean_current_inv_max\\\"] = min_max_ref.apply(\\n    lambda row: (\\n        row[\\\"max_most_freq\\\"]\\n        if pd.notna(row[\\\"max_most_freq\\\"])\\n        else row[\\\"first_ct_percentile\\\"]\\n    ),\\n    axis=1,\\n)\\n\\n# View a sample of the dataframe we created to check the results\\nmin_max_ref.sample(5)\";\n",
       "                var nbb_formatted_code = \"# We'll create a grouped df of all medications which tracks the following for both the min and max inventory levels:\\n# - Count of null values\\n# - Count of unique values\\n# - Most frequent value\\n# - 5th percentile of the last_count_of_day / 95th percentile of the first_count_of_day\\n\\nmin_max_ref = data.groupby(\\\"daily_inv_med_id\\\").agg(\\n    min_nulls=(\\\"current_inv_min\\\", lambda x: x.isna().sum()),  # Number of null values\\n    min_unique=(\\n        \\\"current_inv_min\\\",\\n        lambda x: x.nunique(dropna=True),\\n    ),  # Number of unique values excluding nulls\\n    min_most_freq=(\\n        \\\"current_inv_min\\\",\\n        lambda x: x.mode().iloc[0] if not x.mode().empty else None,\\n    ),  # Most frequent value\\n    last_ct_percentile=(\\n        \\\"last_count_of_day\\\",\\n        lambda x: x.quantile(0.05),\\n    ),  # 5th percentile\\n    max_nulls=(\\\"current_inv_max\\\", lambda x: x.isna().sum()),  # Number of null values\\n    max_unique=(\\n        \\\"current_inv_max\\\",\\n        lambda x: x.nunique(dropna=True),\\n    ),  # Number of unique values excluding nulls\\n    max_most_freq=(\\n        \\\"current_inv_max\\\",\\n        lambda x: x.mode().iloc[0] if not x.mode().empty else None,\\n    ),  # Most frequent value\\n    first_ct_percentile=(\\n        \\\"first_count_of_day\\\",\\n        lambda x: x.quantile(0.95),\\n    ),  # 95th percentile\\n)\\n\\n# Create new columns to store our \\\"clean\\\" values for the inventory min/max values\\nmin_max_ref[[\\\"clean_current_inv_min\\\", \\\"clean_current_inv_max\\\"]] = None, None\\n\\n# Apply business rules to calculate new inventory minimum levels\\nmin_max_ref[\\\"clean_current_inv_min\\\"] = min_max_ref.apply(\\n    lambda row: (\\n        row[\\\"min_most_freq\\\"]\\n        if pd.notna(row[\\\"min_most_freq\\\"])\\n        else row[\\\"last_ct_percentile\\\"]\\n    ),\\n    axis=1,\\n)\\n\\n# Apply business rules to calculate new inventory maximum levels\\nmin_max_ref[\\\"clean_current_inv_max\\\"] = min_max_ref.apply(\\n    lambda row: (\\n        row[\\\"max_most_freq\\\"]\\n        if pd.notna(row[\\\"max_most_freq\\\"])\\n        else row[\\\"first_ct_percentile\\\"]\\n    ),\\n    axis=1,\\n)\\n\\n# View a sample of the dataframe we created to check the results\\nmin_max_ref.sample(5)\";\n",
       "                var nbb_cells = Jupyter.notebook.get_cells();\n",
       "                for (var i = 0; i < nbb_cells.length; ++i) {\n",
       "                    if (nbb_cells[i].input_prompt_number == nbb_cell_id) {\n",
       "                        if (nbb_cells[i].get_text() == nbb_unformatted_code) {\n",
       "                             nbb_cells[i].set_text(nbb_formatted_code);\n",
       "                        }\n",
       "                        break;\n",
       "                    }\n",
       "                }\n",
       "            }, 500);\n",
       "            "
      ],
      "text/plain": [
       "<IPython.core.display.Javascript object>"
      ]
     },
     "metadata": {},
     "output_type": "display_data"
    }
   ],
   "source": [
    "# We'll create a grouped df of all medications which tracks the following for both the min and max inventory levels:\n",
    "# - Count of null values\n",
    "# - Count of unique values\n",
    "# - Most frequent value\n",
    "# - 5th percentile of the last_count_of_day / 95th percentile of the first_count_of_day\n",
    "\n",
    "min_max_ref = data.groupby(\"daily_inv_med_id\").agg(\n",
    "    min_nulls=(\"current_inv_min\", lambda x: x.isna().sum()),  # Number of null values\n",
    "    min_unique=(\n",
    "        \"current_inv_min\",\n",
    "        lambda x: x.nunique(dropna=True),\n",
    "    ),  # Number of unique values excluding nulls\n",
    "    min_most_freq=(\n",
    "        \"current_inv_min\",\n",
    "        lambda x: x.mode().iloc[0] if not x.mode().empty else None,\n",
    "    ),  # Most frequent value\n",
    "    last_ct_percentile=(\n",
    "        \"last_count_of_day\",\n",
    "        lambda x: x.quantile(0.05),\n",
    "    ),  # 5th percentile\n",
    "    max_nulls=(\"current_inv_max\", lambda x: x.isna().sum()),  # Number of null values\n",
    "    max_unique=(\n",
    "        \"current_inv_max\",\n",
    "        lambda x: x.nunique(dropna=True),\n",
    "    ),  # Number of unique values excluding nulls\n",
    "    max_most_freq=(\n",
    "        \"current_inv_max\",\n",
    "        lambda x: x.mode().iloc[0] if not x.mode().empty else None,\n",
    "    ),  # Most frequent value\n",
    "    first_ct_percentile=(\n",
    "        \"first_count_of_day\",\n",
    "        lambda x: x.quantile(0.95),\n",
    "    ),  # 95th percentile\n",
    ")\n",
    "\n",
    "# Create new columns to store our \"clean\" values for the inventory min/max values\n",
    "min_max_ref[[\"clean_current_inv_min\", \"clean_current_inv_max\"]] = None, None\n",
    "\n",
    "# Apply business rules to calculate new inventory minimum levels\n",
    "min_max_ref[\"clean_current_inv_min\"] = min_max_ref.apply(\n",
    "    lambda row: (\n",
    "        row[\"min_most_freq\"]\n",
    "        if pd.notna(row[\"min_most_freq\"])\n",
    "        else row[\"last_ct_percentile\"]\n",
    "    ),\n",
    "    axis=1,\n",
    ")\n",
    "\n",
    "# Apply business rules to calculate new inventory maximum levels\n",
    "min_max_ref[\"clean_current_inv_max\"] = min_max_ref.apply(\n",
    "    lambda row: (\n",
    "        row[\"max_most_freq\"]\n",
    "        if pd.notna(row[\"max_most_freq\"])\n",
    "        else row[\"first_ct_percentile\"]\n",
    "    ),\n",
    "    axis=1,\n",
    ")\n",
    "\n",
    "# View a sample of the dataframe we created to check the results\n",
    "min_max_ref.sample(5)"
   ]
  },
  {
   "cell_type": "code",
   "execution_count": 31,
   "id": "svkwlptyqzyM",
   "metadata": {
    "executionInfo": {
     "elapsed": 2375,
     "status": "ok",
     "timestamp": 1723000393369,
     "user": {
      "displayName": "Kevin Steidler",
      "userId": "01990731876004348216"
     },
     "user_tz": 240
    },
    "id": "svkwlptyqzyM"
   },
   "outputs": [
    {
     "data": {
      "application/javascript": [
       "\n",
       "            setTimeout(function() {\n",
       "                var nbb_cell_id = 31;\n",
       "                var nbb_unformatted_code = \"# Now let's merge in the \\\"clean\\\" min / max values back to the main df\\ndata = pd.merge(\\n    data,\\n    min_max_ref[[\\\"clean_current_inv_min\\\", \\\"clean_current_inv_max\\\"]],\\n    left_on=\\\"daily_inv_med_id\\\",\\n    right_index=True,\\n)\";\n",
       "                var nbb_formatted_code = \"# Now let's merge in the \\\"clean\\\" min / max values back to the main df\\ndata = pd.merge(\\n    data,\\n    min_max_ref[[\\\"clean_current_inv_min\\\", \\\"clean_current_inv_max\\\"]],\\n    left_on=\\\"daily_inv_med_id\\\",\\n    right_index=True,\\n)\";\n",
       "                var nbb_cells = Jupyter.notebook.get_cells();\n",
       "                for (var i = 0; i < nbb_cells.length; ++i) {\n",
       "                    if (nbb_cells[i].input_prompt_number == nbb_cell_id) {\n",
       "                        if (nbb_cells[i].get_text() == nbb_unformatted_code) {\n",
       "                             nbb_cells[i].set_text(nbb_formatted_code);\n",
       "                        }\n",
       "                        break;\n",
       "                    }\n",
       "                }\n",
       "            }, 500);\n",
       "            "
      ],
      "text/plain": [
       "<IPython.core.display.Javascript object>"
      ]
     },
     "metadata": {},
     "output_type": "display_data"
    }
   ],
   "source": [
    "# Now let's merge in the \"clean\" min / max values back to the main df\n",
    "data = pd.merge(\n",
    "    data,\n",
    "    min_max_ref[[\"clean_current_inv_min\", \"clean_current_inv_max\"]],\n",
    "    left_on=\"daily_inv_med_id\",\n",
    "    right_index=True,\n",
    ")"
   ]
  },
  {
   "cell_type": "markdown",
   "id": "P_6bdETDSjzG",
   "metadata": {
    "id": "P_6bdETDSjzG"
   },
   "source": [
    "## Data Standardization"
   ]
  },
  {
   "cell_type": "markdown",
   "id": "aj-QsHVVH45z",
   "metadata": {
    "id": "aj-QsHVVH45z"
   },
   "source": [
    "### Standardize Medication IDs"
   ]
  },
  {
   "cell_type": "markdown",
   "id": "69b09d3d-6f2e-407e-905f-f6aaf53dcbe3",
   "metadata": {
    "id": "69b09d3d-6f2e-407e-905f-f6aaf53dcbe3"
   },
   "source": [
    "Next, we will take a closer look at the missing values for `med_id_clean` since it will be crucial for consistent analysis across different medication types."
   ]
  },
  {
   "cell_type": "code",
   "execution_count": 32,
   "id": "58548993-073d-4049-86cd-b47a969bfe71",
   "metadata": {
    "colab": {
     "base_uri": "https://localhost:8080/"
    },
    "executionInfo": {
     "elapsed": 939,
     "status": "ok",
     "timestamp": 1723000394303,
     "user": {
      "displayName": "Kevin Steidler",
      "userId": "01990731876004348216"
     },
     "user_tz": 240
    },
    "id": "58548993-073d-4049-86cd-b47a969bfe71",
    "outputId": "cf16bd60-7a6b-4814-8fd9-c25884e0ee05"
   },
   "outputs": [
    {
     "name": "stdout",
     "output_type": "stream",
     "text": [
      "Number of rows where 'daily_inv_med_id' and 'med_id_clean' are identical: 3133789\n",
      "Number of rows where 'daily_inv_med_id' and 'med_id_clean' are different: 673525\n"
     ]
    },
    {
     "data": {
      "application/javascript": [
       "\n",
       "            setTimeout(function() {\n",
       "                var nbb_cell_id = 32;\n",
       "                var nbb_unformatted_code = \"# Check identical and different values for 'daily_inv_med_id' and 'med_id_clean' for each row\\nidentical_ids = data[\\\"daily_inv_med_id\\\"] == data[\\\"med_id_clean\\\"]\\ndifferent_ids = data[\\\"daily_inv_med_id\\\"] != data[\\\"med_id_clean\\\"]\\n\\n# Count how many are identical and how many are different\\nidentical_count = identical_ids.sum()\\ndifferent_count = different_ids.sum()\\n\\nprint(\\n    f\\\"Number of rows where 'daily_inv_med_id' and 'med_id_clean' are identical: {identical_count}\\\"\\n)\\nprint(\\n    f\\\"Number of rows where 'daily_inv_med_id' and 'med_id_clean' are different: {different_count}\\\"\\n)\";\n",
       "                var nbb_formatted_code = \"# Check identical and different values for 'daily_inv_med_id' and 'med_id_clean' for each row\\nidentical_ids = data[\\\"daily_inv_med_id\\\"] == data[\\\"med_id_clean\\\"]\\ndifferent_ids = data[\\\"daily_inv_med_id\\\"] != data[\\\"med_id_clean\\\"]\\n\\n# Count how many are identical and how many are different\\nidentical_count = identical_ids.sum()\\ndifferent_count = different_ids.sum()\\n\\nprint(\\n    f\\\"Number of rows where 'daily_inv_med_id' and 'med_id_clean' are identical: {identical_count}\\\"\\n)\\nprint(\\n    f\\\"Number of rows where 'daily_inv_med_id' and 'med_id_clean' are different: {different_count}\\\"\\n)\";\n",
       "                var nbb_cells = Jupyter.notebook.get_cells();\n",
       "                for (var i = 0; i < nbb_cells.length; ++i) {\n",
       "                    if (nbb_cells[i].input_prompt_number == nbb_cell_id) {\n",
       "                        if (nbb_cells[i].get_text() == nbb_unformatted_code) {\n",
       "                             nbb_cells[i].set_text(nbb_formatted_code);\n",
       "                        }\n",
       "                        break;\n",
       "                    }\n",
       "                }\n",
       "            }, 500);\n",
       "            "
      ],
      "text/plain": [
       "<IPython.core.display.Javascript object>"
      ]
     },
     "metadata": {},
     "output_type": "display_data"
    }
   ],
   "source": [
    "# Check identical and different values for 'daily_inv_med_id' and 'med_id_clean' for each row\n",
    "identical_ids = data[\"daily_inv_med_id\"] == data[\"med_id_clean\"]\n",
    "different_ids = data[\"daily_inv_med_id\"] != data[\"med_id_clean\"]\n",
    "\n",
    "# Count how many are identical and how many are different\n",
    "identical_count = identical_ids.sum()\n",
    "different_count = different_ids.sum()\n",
    "\n",
    "print(\n",
    "    f\"Number of rows where 'daily_inv_med_id' and 'med_id_clean' are identical: {identical_count}\"\n",
    ")\n",
    "print(\n",
    "    f\"Number of rows where 'daily_inv_med_id' and 'med_id_clean' are different: {different_count}\"\n",
    ")"
   ]
  },
  {
   "cell_type": "markdown",
   "id": "cfcb7656-e80c-4b6d-99da-229426ec8f4a",
   "metadata": {
    "id": "cfcb7656-e80c-4b6d-99da-229426ec8f4a"
   },
   "source": [
    "Overall, a majority of IDs in both `daily_inv_med_id` and `med_id_clean` seems to be identical. However, approximately 350,000 observations have different IDs.\n",
    "\n",
    "Next, we will check for any inconsistencies and try to observe some common patterns between the two."
   ]
  },
  {
   "cell_type": "code",
   "execution_count": 33,
   "id": "0d79542a-d0b1-4d9a-886c-38b38f681d9a",
   "metadata": {
    "colab": {
     "base_uri": "https://localhost:8080/"
    },
    "executionInfo": {
     "elapsed": 815,
     "status": "ok",
     "timestamp": 1723000395114,
     "user": {
      "displayName": "Kevin Steidler",
      "userId": "01990731876004348216"
     },
     "user_tz": 240
    },
    "id": "0d79542a-d0b1-4d9a-886c-38b38f681d9a",
    "outputId": "03e34522-c65c-4ad4-da0d-53420fed0325"
   },
   "outputs": [
    {
     "name": "stdout",
     "output_type": "stream",
     "text": [
      "Rows where 'daily_inv_med_id' and 'med_id_clean' are identical:\n",
      "        daily_inv_med_id med_id_clean\n",
      "3050176        067043701    067043701\n",
      "1386836           028090       028090\n",
      "2420345         TEMP0391     TEMP0391\n",
      "2776056         002766AA     002766AA\n",
      "2854552        053713P02    053713P02\n",
      "3397950           081454       081454\n",
      "1340112           059081       059081\n",
      "356608            039500       039500\n",
      "1018352           021986       021986\n",
      "292973            007894       007894\n"
     ]
    },
    {
     "data": {
      "application/javascript": [
       "\n",
       "            setTimeout(function() {\n",
       "                var nbb_cell_id = 33;\n",
       "                var nbb_unformatted_code = \"identical_rows = data[identical_ids]\\nprint(\\\"Rows where 'daily_inv_med_id' and 'med_id_clean' are identical:\\\")\\nprint(identical_rows[[\\\"daily_inv_med_id\\\", \\\"med_id_clean\\\"]].sample(10))\";\n",
       "                var nbb_formatted_code = \"identical_rows = data[identical_ids]\\nprint(\\\"Rows where 'daily_inv_med_id' and 'med_id_clean' are identical:\\\")\\nprint(identical_rows[[\\\"daily_inv_med_id\\\", \\\"med_id_clean\\\"]].sample(10))\";\n",
       "                var nbb_cells = Jupyter.notebook.get_cells();\n",
       "                for (var i = 0; i < nbb_cells.length; ++i) {\n",
       "                    if (nbb_cells[i].input_prompt_number == nbb_cell_id) {\n",
       "                        if (nbb_cells[i].get_text() == nbb_unformatted_code) {\n",
       "                             nbb_cells[i].set_text(nbb_formatted_code);\n",
       "                        }\n",
       "                        break;\n",
       "                    }\n",
       "                }\n",
       "            }, 500);\n",
       "            "
      ],
      "text/plain": [
       "<IPython.core.display.Javascript object>"
      ]
     },
     "metadata": {},
     "output_type": "display_data"
    }
   ],
   "source": [
    "identical_rows = data[identical_ids]\n",
    "print(\"Rows where 'daily_inv_med_id' and 'med_id_clean' are identical:\")\n",
    "print(identical_rows[[\"daily_inv_med_id\", \"med_id_clean\"]].sample(10))"
   ]
  },
  {
   "cell_type": "code",
   "execution_count": 34,
   "id": "f6521e3a-3409-49cb-9589-76ac733cb501",
   "metadata": {
    "colab": {
     "base_uri": "https://localhost:8080/"
    },
    "executionInfo": {
     "elapsed": 12,
     "status": "ok",
     "timestamp": 1723000395114,
     "user": {
      "displayName": "Kevin Steidler",
      "userId": "01990731876004348216"
     },
     "user_tz": 240
    },
    "id": "f6521e3a-3409-49cb-9589-76ac733cb501",
    "outputId": "4c85c154-ea75-42f7-d67b-07b29f601c62"
   },
   "outputs": [
    {
     "name": "stdout",
     "output_type": "stream",
     "text": [
      "Rows where 'daily_inv_med_id' and 'med_id_clean' are different:\n",
      "        daily_inv_med_id med_id_clean\n",
      "1796952           015586        15586\n",
      "2102174           040550        40550\n",
      "1132025           005090         5090\n",
      "542790            007801         7801\n",
      "2468415         TEMP2010          NaN\n",
      "1132222           039766        39766\n",
      "976818            006858       6858.0\n",
      "163118        009622BULK       009622\n",
      "1901243       034188bulk        34188\n",
      "1882685           071489        71489\n",
      "1156733           006787         6787\n",
      "1987506       023989bulk        23989\n",
      "2126641       009323bulk         9323\n",
      "2118209       004680bulk         4680\n",
      "408998            011590        11590\n",
      "1197904           000390          390\n",
      "2045785       004654bulk       004654\n",
      "1938001       004004bulk       004004\n",
      "1158173           079924        79924\n",
      "2338929           065227        65227\n"
     ]
    },
    {
     "data": {
      "application/javascript": [
       "\n",
       "            setTimeout(function() {\n",
       "                var nbb_cell_id = 34;\n",
       "                var nbb_unformatted_code = \"different_rows = data[different_ids]\\nprint(\\\"Rows where 'daily_inv_med_id' and 'med_id_clean' are different:\\\")\\nprint(different_rows[[\\\"daily_inv_med_id\\\", \\\"med_id_clean\\\"]].sample(20))\";\n",
       "                var nbb_formatted_code = \"different_rows = data[different_ids]\\nprint(\\\"Rows where 'daily_inv_med_id' and 'med_id_clean' are different:\\\")\\nprint(different_rows[[\\\"daily_inv_med_id\\\", \\\"med_id_clean\\\"]].sample(20))\";\n",
       "                var nbb_cells = Jupyter.notebook.get_cells();\n",
       "                for (var i = 0; i < nbb_cells.length; ++i) {\n",
       "                    if (nbb_cells[i].input_prompt_number == nbb_cell_id) {\n",
       "                        if (nbb_cells[i].get_text() == nbb_unformatted_code) {\n",
       "                             nbb_cells[i].set_text(nbb_formatted_code);\n",
       "                        }\n",
       "                        break;\n",
       "                    }\n",
       "                }\n",
       "            }, 500);\n",
       "            "
      ],
      "text/plain": [
       "<IPython.core.display.Javascript object>"
      ]
     },
     "metadata": {},
     "output_type": "display_data"
    }
   ],
   "source": [
    "different_rows = data[different_ids]\n",
    "print(\"Rows where 'daily_inv_med_id' and 'med_id_clean' are different:\")\n",
    "print(different_rows[[\"daily_inv_med_id\", \"med_id_clean\"]].sample(20))"
   ]
  },
  {
   "cell_type": "markdown",
   "id": "a1f87ad4-a8a0-491b-a56f-7773f9de33c6",
   "metadata": {
    "id": "a1f87ad4-a8a0-491b-a56f-7773f9de33c6"
   },
   "source": [
    "Although the `med_id_clean` column appears to be standardized medication identifier, there are some inconsistencies such as: i) how leading zeros are handled (most of the time it is kept, but sometimes removed); ii) data type inconsistencies, with some values as floats but majority as string.\n",
    "\n",
    "We will standardize the ~350,000 different IDs to the common patterns observed to create more consistent `med_id_clean` values such as keeping leading zeros, removal of suffix (bulk) to keep numeric values only and conversion of floats."
   ]
  },
  {
   "cell_type": "code",
   "execution_count": 35,
   "id": "e00860d9-9853-42b8-b3ef-72610aec89f4",
   "metadata": {
    "executionInfo": {
     "elapsed": 1364,
     "status": "ok",
     "timestamp": 1723000396470,
     "user": {
      "displayName": "Kevin Steidler",
      "userId": "01990731876004348216"
     },
     "user_tz": 240
    },
    "id": "e00860d9-9853-42b8-b3ef-72610aec89f4"
   },
   "outputs": [
    {
     "data": {
      "application/javascript": [
       "\n",
       "            setTimeout(function() {\n",
       "                var nbb_cell_id = 35;\n",
       "                var nbb_unformatted_code = \"# Create a new 'cleaned_med_id' column, initialize it with 'med_id_clean' values\\ndata[\\\"cleaned_med_id\\\"] = data[\\\"med_id_clean\\\"]\\n\\n# Apply the cleaning operation only to rows that are different\\ndata.loc[different_ids, \\\"cleaned_med_id\\\"] = data.loc[\\n    different_ids, \\\"daily_inv_med_id\\\"\\n].apply(lambda x: re.sub(r\\\"bulk$\\\", \\\"\\\", str(x), flags=re.IGNORECASE).strip())\";\n",
       "                var nbb_formatted_code = \"# Create a new 'cleaned_med_id' column, initialize it with 'med_id_clean' values\\ndata[\\\"cleaned_med_id\\\"] = data[\\\"med_id_clean\\\"]\\n\\n# Apply the cleaning operation only to rows that are different\\ndata.loc[different_ids, \\\"cleaned_med_id\\\"] = data.loc[\\n    different_ids, \\\"daily_inv_med_id\\\"\\n].apply(lambda x: re.sub(r\\\"bulk$\\\", \\\"\\\", str(x), flags=re.IGNORECASE).strip())\";\n",
       "                var nbb_cells = Jupyter.notebook.get_cells();\n",
       "                for (var i = 0; i < nbb_cells.length; ++i) {\n",
       "                    if (nbb_cells[i].input_prompt_number == nbb_cell_id) {\n",
       "                        if (nbb_cells[i].get_text() == nbb_unformatted_code) {\n",
       "                             nbb_cells[i].set_text(nbb_formatted_code);\n",
       "                        }\n",
       "                        break;\n",
       "                    }\n",
       "                }\n",
       "            }, 500);\n",
       "            "
      ],
      "text/plain": [
       "<IPython.core.display.Javascript object>"
      ]
     },
     "metadata": {},
     "output_type": "display_data"
    }
   ],
   "source": [
    "# Create a new 'cleaned_med_id' column, initialize it with 'med_id_clean' values\n",
    "data[\"cleaned_med_id\"] = data[\"med_id_clean\"]\n",
    "\n",
    "# Apply the cleaning operation only to rows that are different\n",
    "data.loc[different_ids, \"cleaned_med_id\"] = data.loc[\n",
    "    different_ids, \"daily_inv_med_id\"\n",
    "].apply(lambda x: re.sub(r\"bulk$\", \"\", str(x), flags=re.IGNORECASE).strip())"
   ]
  },
  {
   "cell_type": "code",
   "execution_count": 36,
   "id": "deb1e4db-dc25-4c4a-85af-f7513f310b16",
   "metadata": {
    "colab": {
     "base_uri": "https://localhost:8080/"
    },
    "executionInfo": {
     "elapsed": 19,
     "status": "ok",
     "timestamp": 1723000396471,
     "user": {
      "displayName": "Kevin Steidler",
      "userId": "01990731876004348216"
     },
     "user_tz": 240
    },
    "id": "deb1e4db-dc25-4c4a-85af-f7513f310b16",
    "outputId": "188479e1-57af-4cdd-e62a-dc757f3e264d"
   },
   "outputs": [
    {
     "name": "stdout",
     "output_type": "stream",
     "text": [
      "Rows where 'daily_inv_med_id' and 'cleaned_med_id' are different:\n",
      "        daily_inv_med_id cleaned_med_id med_id_clean\n",
      "1783806       024484bulk         024484       024484\n",
      "2056395       000509bulk         000509       000509\n",
      "1140968           008854         008854         8854\n",
      "406001            003389         003389         3389\n",
      "3593540            P2566          P2566          NaN\n",
      "404856            044186         044186        44186\n",
      "2325495           065452         065452        65452\n",
      "1855363       042943bulk         042943       042943\n",
      "541711            074807         074807        74807\n",
      "547346            004752         004752         4752\n"
     ]
    },
    {
     "data": {
      "application/javascript": [
       "\n",
       "            setTimeout(function() {\n",
       "                var nbb_cell_id = 36;\n",
       "                var nbb_unformatted_code = \"# Let's confirm\\ndifferent_rows = data[different_ids]\\nprint(\\\"Rows where 'daily_inv_med_id' and 'cleaned_med_id' are different:\\\")\\nprint(different_rows[[\\\"daily_inv_med_id\\\", \\\"cleaned_med_id\\\", \\\"med_id_clean\\\"]].sample(10))\";\n",
       "                var nbb_formatted_code = \"# Let's confirm\\ndifferent_rows = data[different_ids]\\nprint(\\\"Rows where 'daily_inv_med_id' and 'cleaned_med_id' are different:\\\")\\nprint(different_rows[[\\\"daily_inv_med_id\\\", \\\"cleaned_med_id\\\", \\\"med_id_clean\\\"]].sample(10))\";\n",
       "                var nbb_cells = Jupyter.notebook.get_cells();\n",
       "                for (var i = 0; i < nbb_cells.length; ++i) {\n",
       "                    if (nbb_cells[i].input_prompt_number == nbb_cell_id) {\n",
       "                        if (nbb_cells[i].get_text() == nbb_unformatted_code) {\n",
       "                             nbb_cells[i].set_text(nbb_formatted_code);\n",
       "                        }\n",
       "                        break;\n",
       "                    }\n",
       "                }\n",
       "            }, 500);\n",
       "            "
      ],
      "text/plain": [
       "<IPython.core.display.Javascript object>"
      ]
     },
     "metadata": {},
     "output_type": "display_data"
    }
   ],
   "source": [
    "# Let's confirm\n",
    "different_rows = data[different_ids]\n",
    "print(\"Rows where 'daily_inv_med_id' and 'cleaned_med_id' are different:\")\n",
    "print(different_rows[[\"daily_inv_med_id\", \"cleaned_med_id\", \"med_id_clean\"]].sample(10))"
   ]
  },
  {
   "cell_type": "code",
   "execution_count": 37,
   "id": "dce24ad9-7063-4afa-819d-2748ad2b5b0c",
   "metadata": {
    "colab": {
     "base_uri": "https://localhost:8080/"
    },
    "executionInfo": {
     "elapsed": 1343,
     "status": "ok",
     "timestamp": 1723000397798,
     "user": {
      "displayName": "Kevin Steidler",
      "userId": "01990731876004348216"
     },
     "user_tz": 240
    },
    "id": "dce24ad9-7063-4afa-819d-2748ad2b5b0c",
    "outputId": "f009cdce-c2e6-4a1e-e8bc-ae770b26f10e"
   },
   "outputs": [
    {
     "data": {
      "text/plain": [
       "daily_inv_location          0\n",
       "daily_inv_med_id            0\n",
       "med_id_clean            23009\n",
       "cleaned_med_id              0\n",
       "pick                  2889223\n",
       "waste                 3805317\n",
       "restock               3494103\n",
       "current_inv_min       1344638\n",
       "current_inv_max       1344638\n",
       "current_inv_qoh       1344638\n",
       "dtype: int64"
      ]
     },
     "execution_count": 37,
     "metadata": {},
     "output_type": "execute_result"
    },
    {
     "data": {
      "application/javascript": [
       "\n",
       "            setTimeout(function() {\n",
       "                var nbb_cell_id = 37;\n",
       "                var nbb_unformatted_code = \"data[\\n    [\\n        \\\"daily_inv_location\\\",\\n        \\\"daily_inv_med_id\\\",\\n        \\\"med_id_clean\\\",\\n        \\\"cleaned_med_id\\\",\\n        \\\"pick\\\",\\n        \\\"waste\\\",\\n        \\\"restock\\\",\\n        \\\"current_inv_min\\\",\\n        \\\"current_inv_max\\\",\\n        \\\"current_inv_qoh\\\",\\n    ]\\n].isna().sum()\";\n",
       "                var nbb_formatted_code = \"data[\\n    [\\n        \\\"daily_inv_location\\\",\\n        \\\"daily_inv_med_id\\\",\\n        \\\"med_id_clean\\\",\\n        \\\"cleaned_med_id\\\",\\n        \\\"pick\\\",\\n        \\\"waste\\\",\\n        \\\"restock\\\",\\n        \\\"current_inv_min\\\",\\n        \\\"current_inv_max\\\",\\n        \\\"current_inv_qoh\\\",\\n    ]\\n].isna().sum()\";\n",
       "                var nbb_cells = Jupyter.notebook.get_cells();\n",
       "                for (var i = 0; i < nbb_cells.length; ++i) {\n",
       "                    if (nbb_cells[i].input_prompt_number == nbb_cell_id) {\n",
       "                        if (nbb_cells[i].get_text() == nbb_unformatted_code) {\n",
       "                             nbb_cells[i].set_text(nbb_formatted_code);\n",
       "                        }\n",
       "                        break;\n",
       "                    }\n",
       "                }\n",
       "            }, 500);\n",
       "            "
      ],
      "text/plain": [
       "<IPython.core.display.Javascript object>"
      ]
     },
     "metadata": {},
     "output_type": "display_data"
    }
   ],
   "source": [
    "data[\n",
    "    [\n",
    "        \"daily_inv_location\",\n",
    "        \"daily_inv_med_id\",\n",
    "        \"med_id_clean\",\n",
    "        \"cleaned_med_id\",\n",
    "        \"pick\",\n",
    "        \"waste\",\n",
    "        \"restock\",\n",
    "        \"current_inv_min\",\n",
    "        \"current_inv_max\",\n",
    "        \"current_inv_qoh\",\n",
    "    ]\n",
    "].isna().sum()"
   ]
  },
  {
   "cell_type": "markdown",
   "id": "aad34fb7-80d5-4c54-bd1b-6fa31a916d06",
   "metadata": {
    "id": "aad34fb7-80d5-4c54-bd1b-6fa31a916d06"
   },
   "source": [
    "After standardizing medication IDs, missing values seems to be resolved, this looks much better."
   ]
  },
  {
   "cell_type": "markdown",
   "id": "693c7ced-2aa8-4c66-8559-f6a59f61a765",
   "metadata": {
    "id": "693c7ced-2aa8-4c66-8559-f6a59f61a765"
   },
   "source": [
    "### Date & Numerical Feature Standardization\n",
    "Some time-series features within the raw dataset are stored as dates, while others are stored as timestamps. We'll iterate through each of the three date features and standardize them so that they all read as dates without any timestamps.\n",
    "\n",
    "Additionally, subtractions (e.g., `pick` and `waste`) from the inventory are represented as negative values. We'll convert those to positive numbers."
   ]
  },
  {
   "cell_type": "code",
   "execution_count": 38,
   "id": "4cadaf72-b7a5-445d-ad90-dfef1c7b1e56",
   "metadata": {
    "executionInfo": {
     "elapsed": 3587,
     "status": "ok",
     "timestamp": 1723000401383,
     "user": {
      "displayName": "Kevin Steidler",
      "userId": "01990731876004348216"
     },
     "user_tz": 240
    },
    "id": "4cadaf72-b7a5-445d-ad90-dfef1c7b1e56"
   },
   "outputs": [
    {
     "data": {
      "application/javascript": [
       "\n",
       "            setTimeout(function() {\n",
       "                var nbb_cell_id = 38;\n",
       "                var nbb_unformatted_code = \"# Convert date columns to datetime type\\ndate_columns = [\\\"daily_inv_date\\\", \\\"next_daily_inv_date\\\", \\\"calendar_dt\\\"]\\ndata[date_columns] = data[date_columns].apply(pd.to_datetime)\\n\\n# Convert 'pick' and 'waste' to absolute values before aggregation\\ndata[\\\"abs_pick\\\"] = data[\\\"pick\\\"].abs()\\ndata[\\\"abs_waste\\\"] = data[\\\"waste\\\"].abs()\";\n",
       "                var nbb_formatted_code = \"# Convert date columns to datetime type\\ndate_columns = [\\\"daily_inv_date\\\", \\\"next_daily_inv_date\\\", \\\"calendar_dt\\\"]\\ndata[date_columns] = data[date_columns].apply(pd.to_datetime)\\n\\n# Convert 'pick' and 'waste' to absolute values before aggregation\\ndata[\\\"abs_pick\\\"] = data[\\\"pick\\\"].abs()\\ndata[\\\"abs_waste\\\"] = data[\\\"waste\\\"].abs()\";\n",
       "                var nbb_cells = Jupyter.notebook.get_cells();\n",
       "                for (var i = 0; i < nbb_cells.length; ++i) {\n",
       "                    if (nbb_cells[i].input_prompt_number == nbb_cell_id) {\n",
       "                        if (nbb_cells[i].get_text() == nbb_unformatted_code) {\n",
       "                             nbb_cells[i].set_text(nbb_formatted_code);\n",
       "                        }\n",
       "                        break;\n",
       "                    }\n",
       "                }\n",
       "            }, 500);\n",
       "            "
      ],
      "text/plain": [
       "<IPython.core.display.Javascript object>"
      ]
     },
     "metadata": {},
     "output_type": "display_data"
    }
   ],
   "source": [
    "# Convert date columns to datetime type\n",
    "date_columns = [\"daily_inv_date\", \"next_daily_inv_date\", \"calendar_dt\"]\n",
    "data[date_columns] = data[date_columns].apply(pd.to_datetime)\n",
    "\n",
    "# Convert 'pick' and 'waste' to absolute values before aggregation\n",
    "data[\"abs_pick\"] = data[\"pick\"].abs()\n",
    "data[\"abs_waste\"] = data[\"waste\"].abs()"
   ]
  },
  {
   "cell_type": "markdown",
   "id": "d7dOMbfw3f2N",
   "metadata": {
    "id": "d7dOMbfw3f2N"
   },
   "source": [
    "## Export Cleaned Timeseries Data\n",
    "At this point, we've now completed the cleaning of our raw timeseries data. We'll now export a copy of this for local exploratory data analysis using Tableau and subsequent machine learning analyses."
   ]
  },
  {
   "cell_type": "code",
   "execution_count": 39,
   "id": "e6qNGCVDGHPN",
   "metadata": {
    "executionInfo": {
     "elapsed": 112104,
     "status": "ok",
     "timestamp": 1723000513458,
     "user": {
      "displayName": "Kevin Steidler",
      "userId": "01990731876004348216"
     },
     "user_tz": 240
    },
    "id": "e6qNGCVDGHPN"
   },
   "outputs": [
    {
     "data": {
      "application/javascript": [
       "\n",
       "            setTimeout(function() {\n",
       "                var nbb_cell_id = 39;\n",
       "                var nbb_unformatted_code = \"data.to_csv(\\\"../outputs/cleaned_inventory_data.csv\\\", index=False)\";\n",
       "                var nbb_formatted_code = \"data.to_csv(\\\"../outputs/cleaned_inventory_data.csv\\\", index=False)\";\n",
       "                var nbb_cells = Jupyter.notebook.get_cells();\n",
       "                for (var i = 0; i < nbb_cells.length; ++i) {\n",
       "                    if (nbb_cells[i].input_prompt_number == nbb_cell_id) {\n",
       "                        if (nbb_cells[i].get_text() == nbb_unformatted_code) {\n",
       "                             nbb_cells[i].set_text(nbb_formatted_code);\n",
       "                        }\n",
       "                        break;\n",
       "                    }\n",
       "                }\n",
       "            }, 500);\n",
       "            "
      ],
      "text/plain": [
       "<IPython.core.display.Javascript object>"
      ]
     },
     "metadata": {},
     "output_type": "display_data"
    }
   ],
   "source": [
    "data.to_csv(\"../outputs/cleaned_inventory_data.csv\", index=False)"
   ]
  },
  {
   "cell_type": "markdown",
   "id": "OAm7SE4-V8ZF",
   "metadata": {
    "id": "OAm7SE4-V8ZF"
   },
   "source": [
    "## Data Aggregation:"
   ]
  },
  {
   "cell_type": "markdown",
   "id": "Lljr2NsH3TDP",
   "metadata": {
    "id": "Lljr2NsH3TDP"
   },
   "source": [
    "### Aggregate time-series data by `clean_med_id`\n",
    "\n",
    "Up to this point, the data is disaggregated by:\n",
    "1.   Individual calendar days\n",
    "2.   Location (although those locations may be in very close proximity to one another, e.g., an adjacent storage room)\n",
    "3.   What size container they're stored in (e.g., a container of 500 pills vs. a storage container with a small quantity of individual pills).\n",
    "\n",
    "Our goal is to create an aggregated dataframe where each observation represents one day of inventory data for a unique medication by dosage amount and dosage form. To achieve this, we'll group the data by the `cleaned_med_id` value and perform aggregations on the key features of interest.\n",
    "\n",
    "**Limitation**: a critical limitation to note with this approach is that pick values may represent medications being transferred from a bulk container to a non-bulk container. For example, if 500 pills for a given medication are picked from a bulk container and used to restock smaller contains across various locations, the data would view this as a pick, whereas in reality this isn't *really* a pick: it's a redistribution of inventory. With how we received the data, we are unable to differentiate these instances of picks vs. picks that entail medications *actually* leaving the inventory system to be given to end-users. Because of this, all `cleaned_med_id` values with both a corresponding bulk and non-bulk `daily_inv_med_id` derivative may be susceptible to double-counting picks."
   ]
  },
  {
   "cell_type": "code",
   "execution_count": 40,
   "id": "3TZd1mIH3KZ-",
   "metadata": {
    "colab": {
     "base_uri": "https://localhost:8080/",
     "height": 206
    },
    "executionInfo": {
     "elapsed": 429,
     "status": "ok",
     "timestamp": 1723000513879,
     "user": {
      "displayName": "Kevin Steidler",
      "userId": "01990731876004348216"
     },
     "user_tz": 240
    },
    "id": "3TZd1mIH3KZ-",
    "outputId": "a405e0f5-5b7e-4937-b953-1261be51cc1d"
   },
   "outputs": [
    {
     "data": {
      "text/html": [
       "<div>\n",
       "<style scoped>\n",
       "    .dataframe tbody tr th:only-of-type {\n",
       "        vertical-align: middle;\n",
       "    }\n",
       "\n",
       "    .dataframe tbody tr th {\n",
       "        vertical-align: top;\n",
       "    }\n",
       "\n",
       "    .dataframe thead th {\n",
       "        text-align: right;\n",
       "    }\n",
       "</style>\n",
       "<table border=\"1\" class=\"dataframe\">\n",
       "  <thead>\n",
       "    <tr style=\"text-align: right;\">\n",
       "      <th></th>\n",
       "      <th>cleaned_med_id</th>\n",
       "      <th>calendar_dt</th>\n",
       "      <th>pick</th>\n",
       "      <th>clean_inv_min</th>\n",
       "      <th>clean_inv_max</th>\n",
       "      <th>first_count_of_day</th>\n",
       "      <th>last_count_of_day</th>\n",
       "    </tr>\n",
       "  </thead>\n",
       "  <tbody>\n",
       "    <tr>\n",
       "      <th>0</th>\n",
       "      <td>231</td>\n",
       "      <td>2022-03-14</td>\n",
       "      <td>5.0</td>\n",
       "      <td>0.0</td>\n",
       "      <td>48.0</td>\n",
       "      <td>0.0</td>\n",
       "      <td>25.0</td>\n",
       "    </tr>\n",
       "    <tr>\n",
       "      <th>1</th>\n",
       "      <td>231</td>\n",
       "      <td>2022-03-15</td>\n",
       "      <td>0.0</td>\n",
       "      <td>0.0</td>\n",
       "      <td>48.0</td>\n",
       "      <td>25.0</td>\n",
       "      <td>25.0</td>\n",
       "    </tr>\n",
       "    <tr>\n",
       "      <th>2</th>\n",
       "      <td>231</td>\n",
       "      <td>2022-03-16</td>\n",
       "      <td>0.0</td>\n",
       "      <td>0.0</td>\n",
       "      <td>48.0</td>\n",
       "      <td>25.0</td>\n",
       "      <td>25.0</td>\n",
       "    </tr>\n",
       "    <tr>\n",
       "      <th>3</th>\n",
       "      <td>231</td>\n",
       "      <td>2022-03-17</td>\n",
       "      <td>0.0</td>\n",
       "      <td>0.0</td>\n",
       "      <td>48.0</td>\n",
       "      <td>25.0</td>\n",
       "      <td>25.0</td>\n",
       "    </tr>\n",
       "    <tr>\n",
       "      <th>4</th>\n",
       "      <td>231</td>\n",
       "      <td>2022-03-18</td>\n",
       "      <td>0.0</td>\n",
       "      <td>0.0</td>\n",
       "      <td>48.0</td>\n",
       "      <td>25.0</td>\n",
       "      <td>25.0</td>\n",
       "    </tr>\n",
       "  </tbody>\n",
       "</table>\n",
       "</div>"
      ],
      "text/plain": [
       "  cleaned_med_id calendar_dt  pick  clean_inv_min  clean_inv_max  \\\n",
       "0            231  2022-03-14   5.0            0.0           48.0   \n",
       "1            231  2022-03-15   0.0            0.0           48.0   \n",
       "2            231  2022-03-16   0.0            0.0           48.0   \n",
       "3            231  2022-03-17   0.0            0.0           48.0   \n",
       "4            231  2022-03-18   0.0            0.0           48.0   \n",
       "\n",
       "   first_count_of_day  last_count_of_day  \n",
       "0                 0.0               25.0  \n",
       "1                25.0               25.0  \n",
       "2                25.0               25.0  \n",
       "3                25.0               25.0  \n",
       "4                25.0               25.0  "
      ]
     },
     "execution_count": 40,
     "metadata": {},
     "output_type": "execute_result"
    },
    {
     "data": {
      "application/javascript": [
       "\n",
       "            setTimeout(function() {\n",
       "                var nbb_cell_id = 40;\n",
       "                var nbb_unformatted_code = \"df_agg = (\\n    data.groupby([\\\"cleaned_med_id\\\", \\\"calendar_dt\\\"])\\n    .agg(\\n        {\\n            \\\"abs_pick\\\": \\\"sum\\\",\\n            \\\"clean_current_inv_min\\\": \\\"sum\\\",\\n            \\\"clean_current_inv_max\\\": \\\"sum\\\",\\n            \\\"first_count_of_day\\\": \\\"sum\\\",\\n            \\\"last_count_of_day\\\": \\\"sum\\\",\\n        }\\n    )\\n    .reset_index()\\n)\\n\\ndf_agg.columns = [\\n    \\\"cleaned_med_id\\\",\\n    \\\"calendar_dt\\\",\\n    \\\"pick\\\",\\n    \\\"clean_inv_min\\\",\\n    \\\"clean_inv_max\\\",\\n    \\\"first_count_of_day\\\",\\n    \\\"last_count_of_day\\\",\\n]\\n\\ndf_agg.head(5)\";\n",
       "                var nbb_formatted_code = \"df_agg = (\\n    data.groupby([\\\"cleaned_med_id\\\", \\\"calendar_dt\\\"])\\n    .agg(\\n        {\\n            \\\"abs_pick\\\": \\\"sum\\\",\\n            \\\"clean_current_inv_min\\\": \\\"sum\\\",\\n            \\\"clean_current_inv_max\\\": \\\"sum\\\",\\n            \\\"first_count_of_day\\\": \\\"sum\\\",\\n            \\\"last_count_of_day\\\": \\\"sum\\\",\\n        }\\n    )\\n    .reset_index()\\n)\\n\\ndf_agg.columns = [\\n    \\\"cleaned_med_id\\\",\\n    \\\"calendar_dt\\\",\\n    \\\"pick\\\",\\n    \\\"clean_inv_min\\\",\\n    \\\"clean_inv_max\\\",\\n    \\\"first_count_of_day\\\",\\n    \\\"last_count_of_day\\\",\\n]\\n\\ndf_agg.head(5)\";\n",
       "                var nbb_cells = Jupyter.notebook.get_cells();\n",
       "                for (var i = 0; i < nbb_cells.length; ++i) {\n",
       "                    if (nbb_cells[i].input_prompt_number == nbb_cell_id) {\n",
       "                        if (nbb_cells[i].get_text() == nbb_unformatted_code) {\n",
       "                             nbb_cells[i].set_text(nbb_formatted_code);\n",
       "                        }\n",
       "                        break;\n",
       "                    }\n",
       "                }\n",
       "            }, 500);\n",
       "            "
      ],
      "text/plain": [
       "<IPython.core.display.Javascript object>"
      ]
     },
     "metadata": {},
     "output_type": "display_data"
    }
   ],
   "source": [
    "df_agg = (\n",
    "    data.groupby([\"cleaned_med_id\", \"calendar_dt\"])\n",
    "    .agg(\n",
    "        {\n",
    "            \"abs_pick\": \"sum\",\n",
    "            \"clean_current_inv_min\": \"sum\",\n",
    "            \"clean_current_inv_max\": \"sum\",\n",
    "            \"first_count_of_day\": \"sum\",\n",
    "            \"last_count_of_day\": \"sum\",\n",
    "        }\n",
    "    )\n",
    "    .reset_index()\n",
    ")\n",
    "\n",
    "df_agg.columns = [\n",
    "    \"cleaned_med_id\",\n",
    "    \"calendar_dt\",\n",
    "    \"pick\",\n",
    "    \"clean_inv_min\",\n",
    "    \"clean_inv_max\",\n",
    "    \"first_count_of_day\",\n",
    "    \"last_count_of_day\",\n",
    "]\n",
    "\n",
    "df_agg.head(5)"
   ]
  },
  {
   "cell_type": "markdown",
   "id": "kr6OJQ1L351c",
   "metadata": {
    "id": "kr6OJQ1L351c"
   },
   "source": [
    "### Calculate Medication-level Inventory KPIs\n",
    "We'll now create a new dataframe that further aggregates the grouped `cleaned_med_id` time-series data so that we have one row per unique medication. For each medication value we'll track:\n",
    "\n",
    "1.   Minimum inventory level\n",
    "2.   Maximum inventory level\n",
    "3.   Mean first count of day\n",
    "4.   Mean last count of day\n",
    "5.   Total picks\n",
    "6.   Mean picks per day\n",
    "7.   Median picks per day\n",
    "8.   Variance of picks per day\n",
    "9.   Standard deviation of picks per day\n",
    "10.   Range of picks per day\n",
    "11.   Interquartile range of picks per day\n",
    "12.   Skewness of picks per day\n",
    "13.   Kurtosis of picks per day\n",
    "14.   Percent of days with non-zero picks\n",
    "15.   Number of days with data present (even if there was no movement)\n",
    "16.   Number of days with a stockout\n",
    "17.   Number of days with scarce inventory (defined as `last_count_of_day` < `minimum_inventory_level`)\n",
    "18.   Number of days with excess inventory (defined as `last_count_of_day` > `maximum_inventory_level`)"
   ]
  },
  {
   "cell_type": "code",
   "execution_count": 41,
   "id": "VhBh3vjm3Ph-",
   "metadata": {
    "executionInfo": {
     "elapsed": 39,
     "status": "ok",
     "timestamp": 1723000513879,
     "user": {
      "displayName": "Kevin Steidler",
      "userId": "01990731876004348216"
     },
     "user_tz": 240
    },
    "id": "VhBh3vjm3Ph-"
   },
   "outputs": [
    {
     "data": {
      "application/javascript": [
       "\n",
       "            setTimeout(function() {\n",
       "                var nbb_cell_id = 41;\n",
       "                var nbb_unformatted_code = \"def calculate_statistics(group):\\n    pick_count = group[\\\"pick\\\"].notnull() & (group[\\\"pick\\\"] != 0)\\n    stockout = group[\\\"last_count_of_day\\\"] == 0\\n    below_min = group[\\\"last_count_of_day\\\"] < group[\\\"clean_inv_min\\\"]\\n    above_max = group[\\\"last_count_of_day\\\"] > group[\\\"clean_inv_max\\\"]\\n\\n    return pd.Series(\\n        {\\n            \\\"inv_min\\\": group[\\\"clean_inv_min\\\"].mean(),\\n            \\\"inv_max\\\": group[\\\"clean_inv_max\\\"].mean(),\\n            \\\"mean_first_count\\\": group[\\\"first_count_of_day\\\"].mean(),\\n            \\\"mean_last_count\\\": group[\\\"last_count_of_day\\\"].mean(),\\n            \\\"total_picks\\\": group[\\\"pick\\\"].sum(),\\n            \\\"mean_picks\\\": group[\\\"pick\\\"].mean(),\\n            \\\"median_picks\\\": group[\\\"pick\\\"].median(),\\n            \\\"variance_picks\\\": group[\\\"pick\\\"].var(),\\n            \\\"std_dev_picks\\\": group[\\\"pick\\\"].std(),\\n            \\\"range_picks\\\": group[\\\"pick\\\"].max() - group[\\\"pick\\\"].min(),\\n            \\\"iqr_picks\\\": group[\\\"pick\\\"].quantile(0.75) - group[\\\"pick\\\"].quantile(0.25),\\n            \\\"skewness_picks\\\": skew(group[\\\"pick\\\"]),\\n            \\\"kurtosis_picks\\\": kurtosis(group[\\\"pick\\\"]),\\n            \\\"percent_days_w_pick\\\": pick_count.sum() / group[\\\"calendar_dt\\\"].count(),\\n            \\\"days_of_data\\\": group[\\\"calendar_dt\\\"].count(),\\n            \\\"days_w_stockout\\\": stockout.sum(),\\n            \\\"days_w_scarce_inv\\\": below_min.sum(),\\n            \\\"days_w_excess_inv\\\": above_max.sum(),\\n        }\\n    )\";\n",
       "                var nbb_formatted_code = \"def calculate_statistics(group):\\n    pick_count = group[\\\"pick\\\"].notnull() & (group[\\\"pick\\\"] != 0)\\n    stockout = group[\\\"last_count_of_day\\\"] == 0\\n    below_min = group[\\\"last_count_of_day\\\"] < group[\\\"clean_inv_min\\\"]\\n    above_max = group[\\\"last_count_of_day\\\"] > group[\\\"clean_inv_max\\\"]\\n\\n    return pd.Series(\\n        {\\n            \\\"inv_min\\\": group[\\\"clean_inv_min\\\"].mean(),\\n            \\\"inv_max\\\": group[\\\"clean_inv_max\\\"].mean(),\\n            \\\"mean_first_count\\\": group[\\\"first_count_of_day\\\"].mean(),\\n            \\\"mean_last_count\\\": group[\\\"last_count_of_day\\\"].mean(),\\n            \\\"total_picks\\\": group[\\\"pick\\\"].sum(),\\n            \\\"mean_picks\\\": group[\\\"pick\\\"].mean(),\\n            \\\"median_picks\\\": group[\\\"pick\\\"].median(),\\n            \\\"variance_picks\\\": group[\\\"pick\\\"].var(),\\n            \\\"std_dev_picks\\\": group[\\\"pick\\\"].std(),\\n            \\\"range_picks\\\": group[\\\"pick\\\"].max() - group[\\\"pick\\\"].min(),\\n            \\\"iqr_picks\\\": group[\\\"pick\\\"].quantile(0.75) - group[\\\"pick\\\"].quantile(0.25),\\n            \\\"skewness_picks\\\": skew(group[\\\"pick\\\"]),\\n            \\\"kurtosis_picks\\\": kurtosis(group[\\\"pick\\\"]),\\n            \\\"percent_days_w_pick\\\": pick_count.sum() / group[\\\"calendar_dt\\\"].count(),\\n            \\\"days_of_data\\\": group[\\\"calendar_dt\\\"].count(),\\n            \\\"days_w_stockout\\\": stockout.sum(),\\n            \\\"days_w_scarce_inv\\\": below_min.sum(),\\n            \\\"days_w_excess_inv\\\": above_max.sum(),\\n        }\\n    )\";\n",
       "                var nbb_cells = Jupyter.notebook.get_cells();\n",
       "                for (var i = 0; i < nbb_cells.length; ++i) {\n",
       "                    if (nbb_cells[i].input_prompt_number == nbb_cell_id) {\n",
       "                        if (nbb_cells[i].get_text() == nbb_unformatted_code) {\n",
       "                             nbb_cells[i].set_text(nbb_formatted_code);\n",
       "                        }\n",
       "                        break;\n",
       "                    }\n",
       "                }\n",
       "            }, 500);\n",
       "            "
      ],
      "text/plain": [
       "<IPython.core.display.Javascript object>"
      ]
     },
     "metadata": {},
     "output_type": "display_data"
    }
   ],
   "source": [
    "def calculate_statistics(group):\n",
    "    pick_count = group[\"pick\"].notnull() & (group[\"pick\"] != 0)\n",
    "    stockout = group[\"last_count_of_day\"] == 0\n",
    "    below_min = group[\"last_count_of_day\"] < group[\"clean_inv_min\"]\n",
    "    above_max = group[\"last_count_of_day\"] > group[\"clean_inv_max\"]\n",
    "\n",
    "    return pd.Series(\n",
    "        {\n",
    "            \"inv_min\": group[\"clean_inv_min\"].mean(),\n",
    "            \"inv_max\": group[\"clean_inv_max\"].mean(),\n",
    "            \"mean_first_count\": group[\"first_count_of_day\"].mean(),\n",
    "            \"mean_last_count\": group[\"last_count_of_day\"].mean(),\n",
    "            \"total_picks\": group[\"pick\"].sum(),\n",
    "            \"mean_picks\": group[\"pick\"].mean(),\n",
    "            \"median_picks\": group[\"pick\"].median(),\n",
    "            \"variance_picks\": group[\"pick\"].var(),\n",
    "            \"std_dev_picks\": group[\"pick\"].std(),\n",
    "            \"range_picks\": group[\"pick\"].max() - group[\"pick\"].min(),\n",
    "            \"iqr_picks\": group[\"pick\"].quantile(0.75) - group[\"pick\"].quantile(0.25),\n",
    "            \"skewness_picks\": skew(group[\"pick\"]),\n",
    "            \"kurtosis_picks\": kurtosis(group[\"pick\"]),\n",
    "            \"percent_days_w_pick\": pick_count.sum() / group[\"calendar_dt\"].count(),\n",
    "            \"days_of_data\": group[\"calendar_dt\"].count(),\n",
    "            \"days_w_stockout\": stockout.sum(),\n",
    "            \"days_w_scarce_inv\": below_min.sum(),\n",
    "            \"days_w_excess_inv\": above_max.sum(),\n",
    "        }\n",
    "    )"
   ]
  },
  {
   "cell_type": "code",
   "execution_count": 42,
   "id": "IOBKqlNK3OxO",
   "metadata": {
    "executionInfo": {
     "elapsed": 30118,
     "status": "ok",
     "timestamp": 1723000543958,
     "user": {
      "displayName": "Kevin Steidler",
      "userId": "01990731876004348216"
     },
     "user_tz": 240
    },
    "id": "IOBKqlNK3OxO"
   },
   "outputs": [
    {
     "data": {
      "application/javascript": [
       "\n",
       "            setTimeout(function() {\n",
       "                var nbb_cell_id = 42;\n",
       "                var nbb_unformatted_code = \"# Iterate through each medication and execute the calculate_statistics function\\nsummary_df = df_agg.groupby(\\\"cleaned_med_id\\\").apply(calculate_statistics).reset_index()\";\n",
       "                var nbb_formatted_code = \"# Iterate through each medication and execute the calculate_statistics function\\nsummary_df = df_agg.groupby(\\\"cleaned_med_id\\\").apply(calculate_statistics).reset_index()\";\n",
       "                var nbb_cells = Jupyter.notebook.get_cells();\n",
       "                for (var i = 0; i < nbb_cells.length; ++i) {\n",
       "                    if (nbb_cells[i].input_prompt_number == nbb_cell_id) {\n",
       "                        if (nbb_cells[i].get_text() == nbb_unformatted_code) {\n",
       "                             nbb_cells[i].set_text(nbb_formatted_code);\n",
       "                        }\n",
       "                        break;\n",
       "                    }\n",
       "                }\n",
       "            }, 500);\n",
       "            "
      ],
      "text/plain": [
       "<IPython.core.display.Javascript object>"
      ]
     },
     "metadata": {},
     "output_type": "display_data"
    }
   ],
   "source": [
    "# Iterate through each medication and execute the calculate_statistics function\n",
    "summary_df = df_agg.groupby(\"cleaned_med_id\").apply(calculate_statistics).reset_index()"
   ]
  },
  {
   "cell_type": "markdown",
   "id": "iGbBX3lG4Co6",
   "metadata": {
    "id": "iGbBX3lG4Co6"
   },
   "source": [
    "With the aggregate statistics now available, we'll engineer some additional features:\n",
    "\n",
    "\n",
    "*   **Mean Inventory** - Measures the average volume on hand across the period of data.\n",
    "*   **Inventory Turnover Ratio** - Measures the number of times the average volume on hand is exhausted over the period of data. A higher ratio implies efficient inventory management. A lower ratio denotes overstocking.\n",
    "*   **Days Sales of Inventory (DSI)** - Measures the average number of days it takes to exhaust the average inventory level. A Lower DSI indicates quick inventory turnover and efficient inventory management. A higher DSI suggests slower inventory turnover.\n",
    "*   **Stockout, Scarce Inventory, and Excess Inventory Rates** -  Measures the percentage of days whether there respectively was a stockout, scarce inventory, or excess inventory.\n",
    "*   **Coefficient of Variation** -  Normalizes standard deviation values by the mean volume of picks."
   ]
  },
  {
   "cell_type": "code",
   "execution_count": 43,
   "id": "NcjzgiYf4Adc",
   "metadata": {
    "colab": {
     "base_uri": "https://localhost:8080/",
     "height": 320
    },
    "executionInfo": {
     "elapsed": 954,
     "status": "ok",
     "timestamp": 1723000544869,
     "user": {
      "displayName": "Kevin Steidler",
      "userId": "01990731876004348216"
     },
     "user_tz": 240
    },
    "id": "NcjzgiYf4Adc",
    "outputId": "bb783f19-b29b-40bf-8338-d1ad332ece4e"
   },
   "outputs": [
    {
     "data": {
      "text/html": [
       "<div>\n",
       "<style scoped>\n",
       "    .dataframe tbody tr th:only-of-type {\n",
       "        vertical-align: middle;\n",
       "    }\n",
       "\n",
       "    .dataframe tbody tr th {\n",
       "        vertical-align: top;\n",
       "    }\n",
       "\n",
       "    .dataframe thead th {\n",
       "        text-align: right;\n",
       "    }\n",
       "</style>\n",
       "<table border=\"1\" class=\"dataframe\">\n",
       "  <thead>\n",
       "    <tr style=\"text-align: right;\">\n",
       "      <th></th>\n",
       "      <th>inv_min</th>\n",
       "      <th>inv_max</th>\n",
       "      <th>mean_first_count</th>\n",
       "      <th>mean_last_count</th>\n",
       "      <th>total_picks</th>\n",
       "      <th>mean_picks</th>\n",
       "      <th>median_picks</th>\n",
       "      <th>variance_picks</th>\n",
       "      <th>std_dev_picks</th>\n",
       "      <th>range_picks</th>\n",
       "      <th>iqr_picks</th>\n",
       "      <th>skewness_picks</th>\n",
       "      <th>kurtosis_picks</th>\n",
       "      <th>percent_days_w_pick</th>\n",
       "      <th>days_of_data</th>\n",
       "      <th>days_w_stockout</th>\n",
       "      <th>days_w_scarce_inv</th>\n",
       "      <th>days_w_excess_inv</th>\n",
       "      <th>mean_inventory</th>\n",
       "      <th>inv_turnover_ratio</th>\n",
       "      <th>days_sales_inventory</th>\n",
       "      <th>stockout_rate</th>\n",
       "      <th>excess_rate</th>\n",
       "      <th>scarce_rate</th>\n",
       "      <th>coef_var</th>\n",
       "    </tr>\n",
       "  </thead>\n",
       "  <tbody>\n",
       "    <tr>\n",
       "      <th>count</th>\n",
       "      <td>4593.000000</td>\n",
       "      <td>4593.000000</td>\n",
       "      <td>4593.000000</td>\n",
       "      <td>4593.000000</td>\n",
       "      <td>4.593000e+03</td>\n",
       "      <td>4593.000000</td>\n",
       "      <td>4593.000000</td>\n",
       "      <td>4.592000e+03</td>\n",
       "      <td>4592.000000</td>\n",
       "      <td>4593.000000</td>\n",
       "      <td>4593.000000</td>\n",
       "      <td>3795.000000</td>\n",
       "      <td>3795.000000</td>\n",
       "      <td>4593.000000</td>\n",
       "      <td>4593.000000</td>\n",
       "      <td>4593.000000</td>\n",
       "      <td>4593.000000</td>\n",
       "      <td>4593.000000</td>\n",
       "      <td>4593.000000</td>\n",
       "      <td>3.915000e+03</td>\n",
       "      <td>3.795000e+03</td>\n",
       "      <td>4593.000000</td>\n",
       "      <td>4593.000000</td>\n",
       "      <td>4593.000000</td>\n",
       "      <td>3795.000000</td>\n",
       "    </tr>\n",
       "    <tr>\n",
       "      <th>mean</th>\n",
       "      <td>108.462499</td>\n",
       "      <td>207.126687</td>\n",
       "      <td>545.266230</td>\n",
       "      <td>544.660901</td>\n",
       "      <td>1.262575e+04</td>\n",
       "      <td>15.778952</td>\n",
       "      <td>5.194426</td>\n",
       "      <td>1.902345e+06</td>\n",
       "      <td>152.162864</td>\n",
       "      <td>3987.915306</td>\n",
       "      <td>8.745972</td>\n",
       "      <td>9.095319</td>\n",
       "      <td>149.107123</td>\n",
       "      <td>0.243645</td>\n",
       "      <td>683.247115</td>\n",
       "      <td>119.734814</td>\n",
       "      <td>109.490529</td>\n",
       "      <td>190.256260</td>\n",
       "      <td>544.963566</td>\n",
       "      <td>6.299139e+02</td>\n",
       "      <td>1.396594e+03</td>\n",
       "      <td>0.259409</td>\n",
       "      <td>0.251089</td>\n",
       "      <td>0.140845</td>\n",
       "      <td>6.604906</td>\n",
       "    </tr>\n",
       "    <tr>\n",
       "      <th>std</th>\n",
       "      <td>910.460055</td>\n",
       "      <td>1417.151325</td>\n",
       "      <td>8648.447441</td>\n",
       "      <td>8639.612309</td>\n",
       "      <td>8.156108e+04</td>\n",
       "      <td>100.288268</td>\n",
       "      <td>34.468183</td>\n",
       "      <td>3.050799e+07</td>\n",
       "      <td>1370.985439</td>\n",
       "      <td>38605.305442</td>\n",
       "      <td>103.707385</td>\n",
       "      <td>7.328474</td>\n",
       "      <td>210.110974</td>\n",
       "      <td>0.316009</td>\n",
       "      <td>230.915142</td>\n",
       "      <td>210.649000</td>\n",
       "      <td>179.552887</td>\n",
       "      <td>223.760386</td>\n",
       "      <td>8644.025455</td>\n",
       "      <td>1.897880e+04</td>\n",
       "      <td>4.428277e+04</td>\n",
       "      <td>0.401275</td>\n",
       "      <td>0.291911</td>\n",
       "      <td>0.227393</td>\n",
       "      <td>6.777938</td>\n",
       "    </tr>\n",
       "    <tr>\n",
       "      <th>min</th>\n",
       "      <td>0.000000</td>\n",
       "      <td>0.000000</td>\n",
       "      <td>0.000000</td>\n",
       "      <td>0.000000</td>\n",
       "      <td>0.000000e+00</td>\n",
       "      <td>0.000000</td>\n",
       "      <td>0.000000</td>\n",
       "      <td>0.000000e+00</td>\n",
       "      <td>0.000000</td>\n",
       "      <td>0.000000</td>\n",
       "      <td>0.000000</td>\n",
       "      <td>-0.117382</td>\n",
       "      <td>-1.417104</td>\n",
       "      <td>0.000000</td>\n",
       "      <td>1.000000</td>\n",
       "      <td>0.000000</td>\n",
       "      <td>0.000000</td>\n",
       "      <td>0.000000</td>\n",
       "      <td>0.000000</td>\n",
       "      <td>0.000000e+00</td>\n",
       "      <td>0.000000e+00</td>\n",
       "      <td>0.000000</td>\n",
       "      <td>0.000000</td>\n",
       "      <td>0.000000</td>\n",
       "      <td>0.195339</td>\n",
       "    </tr>\n",
       "    <tr>\n",
       "      <th>25%</th>\n",
       "      <td>0.000000</td>\n",
       "      <td>0.000000</td>\n",
       "      <td>2.150062</td>\n",
       "      <td>1.982895</td>\n",
       "      <td>8.000000e+00</td>\n",
       "      <td>0.013819</td>\n",
       "      <td>0.000000</td>\n",
       "      <td>2.616510e-02</td>\n",
       "      <td>0.161756</td>\n",
       "      <td>2.000000</td>\n",
       "      <td>0.000000</td>\n",
       "      <td>3.669349</td>\n",
       "      <td>16.425501</td>\n",
       "      <td>0.006258</td>\n",
       "      <td>676.000000</td>\n",
       "      <td>1.000000</td>\n",
       "      <td>0.000000</td>\n",
       "      <td>2.000000</td>\n",
       "      <td>2.034314</td>\n",
       "      <td>4.642522e+00</td>\n",
       "      <td>1.340504e+01</td>\n",
       "      <td>0.001218</td>\n",
       "      <td>0.003645</td>\n",
       "      <td>0.000000</td>\n",
       "      <td>2.061300</td>\n",
       "    </tr>\n",
       "    <tr>\n",
       "      <th>50%</th>\n",
       "      <td>6.000000</td>\n",
       "      <td>17.000000</td>\n",
       "      <td>21.212766</td>\n",
       "      <td>21.064304</td>\n",
       "      <td>2.430000e+02</td>\n",
       "      <td>0.338200</td>\n",
       "      <td>0.000000</td>\n",
       "      <td>2.261757e+00</td>\n",
       "      <td>1.503914</td>\n",
       "      <td>18.000000</td>\n",
       "      <td>0.000000</td>\n",
       "      <td>6.626117</td>\n",
       "      <td>55.946768</td>\n",
       "      <td>0.084158</td>\n",
       "      <td>812.000000</td>\n",
       "      <td>8.000000</td>\n",
       "      <td>18.000000</td>\n",
       "      <td>98.000000</td>\n",
       "      <td>21.077491</td>\n",
       "      <td>1.898519e+01</td>\n",
       "      <td>3.262819e+01</td>\n",
       "      <td>0.010936</td>\n",
       "      <td>0.128797</td>\n",
       "      <td>0.024450</td>\n",
       "      <td>3.817028</td>\n",
       "    </tr>\n",
       "    <tr>\n",
       "      <th>75%</th>\n",
       "      <td>40.000000</td>\n",
       "      <td>111.000000</td>\n",
       "      <td>101.309002</td>\n",
       "      <td>101.209246</td>\n",
       "      <td>2.364000e+03</td>\n",
       "      <td>3.179830</td>\n",
       "      <td>0.000000</td>\n",
       "      <td>5.603201e+01</td>\n",
       "      <td>7.485452</td>\n",
       "      <td>83.000000</td>\n",
       "      <td>2.000000</td>\n",
       "      <td>12.503739</td>\n",
       "      <td>180.254633</td>\n",
       "      <td>0.388480</td>\n",
       "      <td>822.000000</td>\n",
       "      <td>140.000000</td>\n",
       "      <td>141.000000</td>\n",
       "      <td>315.000000</td>\n",
       "      <td>101.290754</td>\n",
       "      <td>5.001896e+01</td>\n",
       "      <td>1.022619e+02</td>\n",
       "      <td>0.474201</td>\n",
       "      <td>0.411192</td>\n",
       "      <td>0.181929</td>\n",
       "      <td>8.533286</td>\n",
       "    </tr>\n",
       "    <tr>\n",
       "      <th>max</th>\n",
       "      <td>32000.000000</td>\n",
       "      <td>50000.000000</td>\n",
       "      <td>364342.823815</td>\n",
       "      <td>364291.623329</td>\n",
       "      <td>2.813873e+06</td>\n",
       "      <td>3423.203163</td>\n",
       "      <td>1531.000000</td>\n",
       "      <td>1.117813e+09</td>\n",
       "      <td>33433.706056</td>\n",
       "      <td>959166.000000</td>\n",
       "      <td>5315.000000</td>\n",
       "      <td>28.635663</td>\n",
       "      <td>818.001217</td>\n",
       "      <td>1.000000</td>\n",
       "      <td>823.000000</td>\n",
       "      <td>823.000000</td>\n",
       "      <td>823.000000</td>\n",
       "      <td>823.000000</td>\n",
       "      <td>364317.223572</td>\n",
       "      <td>1.141090e+06</td>\n",
       "      <td>2.631315e+06</td>\n",
       "      <td>1.000000</td>\n",
       "      <td>1.000000</td>\n",
       "      <td>1.000000</td>\n",
       "      <td>28.687977</td>\n",
       "    </tr>\n",
       "  </tbody>\n",
       "</table>\n",
       "</div>"
      ],
      "text/plain": [
       "            inv_min       inv_max  mean_first_count  mean_last_count  \\\n",
       "count   4593.000000   4593.000000       4593.000000      4593.000000   \n",
       "mean     108.462499    207.126687        545.266230       544.660901   \n",
       "std      910.460055   1417.151325       8648.447441      8639.612309   \n",
       "min        0.000000      0.000000          0.000000         0.000000   \n",
       "25%        0.000000      0.000000          2.150062         1.982895   \n",
       "50%        6.000000     17.000000         21.212766        21.064304   \n",
       "75%       40.000000    111.000000        101.309002       101.209246   \n",
       "max    32000.000000  50000.000000     364342.823815    364291.623329   \n",
       "\n",
       "        total_picks   mean_picks  median_picks  variance_picks  std_dev_picks  \\\n",
       "count  4.593000e+03  4593.000000   4593.000000    4.592000e+03    4592.000000   \n",
       "mean   1.262575e+04    15.778952      5.194426    1.902345e+06     152.162864   \n",
       "std    8.156108e+04   100.288268     34.468183    3.050799e+07    1370.985439   \n",
       "min    0.000000e+00     0.000000      0.000000    0.000000e+00       0.000000   \n",
       "25%    8.000000e+00     0.013819      0.000000    2.616510e-02       0.161756   \n",
       "50%    2.430000e+02     0.338200      0.000000    2.261757e+00       1.503914   \n",
       "75%    2.364000e+03     3.179830      0.000000    5.603201e+01       7.485452   \n",
       "max    2.813873e+06  3423.203163   1531.000000    1.117813e+09   33433.706056   \n",
       "\n",
       "         range_picks    iqr_picks  skewness_picks  kurtosis_picks  \\\n",
       "count    4593.000000  4593.000000     3795.000000     3795.000000   \n",
       "mean     3987.915306     8.745972        9.095319      149.107123   \n",
       "std     38605.305442   103.707385        7.328474      210.110974   \n",
       "min         0.000000     0.000000       -0.117382       -1.417104   \n",
       "25%         2.000000     0.000000        3.669349       16.425501   \n",
       "50%        18.000000     0.000000        6.626117       55.946768   \n",
       "75%        83.000000     2.000000       12.503739      180.254633   \n",
       "max    959166.000000  5315.000000       28.635663      818.001217   \n",
       "\n",
       "       percent_days_w_pick  days_of_data  days_w_stockout  days_w_scarce_inv  \\\n",
       "count          4593.000000   4593.000000      4593.000000        4593.000000   \n",
       "mean              0.243645    683.247115       119.734814         109.490529   \n",
       "std               0.316009    230.915142       210.649000         179.552887   \n",
       "min               0.000000      1.000000         0.000000           0.000000   \n",
       "25%               0.006258    676.000000         1.000000           0.000000   \n",
       "50%               0.084158    812.000000         8.000000          18.000000   \n",
       "75%               0.388480    822.000000       140.000000         141.000000   \n",
       "max               1.000000    823.000000       823.000000         823.000000   \n",
       "\n",
       "       days_w_excess_inv  mean_inventory  inv_turnover_ratio  \\\n",
       "count        4593.000000     4593.000000        3.915000e+03   \n",
       "mean          190.256260      544.963566        6.299139e+02   \n",
       "std           223.760386     8644.025455        1.897880e+04   \n",
       "min             0.000000        0.000000        0.000000e+00   \n",
       "25%             2.000000        2.034314        4.642522e+00   \n",
       "50%            98.000000       21.077491        1.898519e+01   \n",
       "75%           315.000000      101.290754        5.001896e+01   \n",
       "max           823.000000   364317.223572        1.141090e+06   \n",
       "\n",
       "       days_sales_inventory  stockout_rate  excess_rate  scarce_rate  \\\n",
       "count          3.795000e+03    4593.000000  4593.000000  4593.000000   \n",
       "mean           1.396594e+03       0.259409     0.251089     0.140845   \n",
       "std            4.428277e+04       0.401275     0.291911     0.227393   \n",
       "min            0.000000e+00       0.000000     0.000000     0.000000   \n",
       "25%            1.340504e+01       0.001218     0.003645     0.000000   \n",
       "50%            3.262819e+01       0.010936     0.128797     0.024450   \n",
       "75%            1.022619e+02       0.474201     0.411192     0.181929   \n",
       "max            2.631315e+06       1.000000     1.000000     1.000000   \n",
       "\n",
       "          coef_var  \n",
       "count  3795.000000  \n",
       "mean      6.604906  \n",
       "std       6.777938  \n",
       "min       0.195339  \n",
       "25%       2.061300  \n",
       "50%       3.817028  \n",
       "75%       8.533286  \n",
       "max      28.687977  "
      ]
     },
     "execution_count": 43,
     "metadata": {},
     "output_type": "execute_result"
    },
    {
     "data": {
      "application/javascript": [
       "\n",
       "            setTimeout(function() {\n",
       "                var nbb_cell_id = 43;\n",
       "                var nbb_unformatted_code = \"summary_df[\\\"mean_inventory\\\"] = summary_df.apply(\\n    lambda x: ((x.mean_first_count + x.mean_last_count) / 2), axis=1\\n)\\nsummary_df[\\\"inv_turnover_ratio\\\"] = summary_df.apply(\\n    lambda x: x.total_picks / x.mean_inventory if x.mean_inventory != 0 else np.nan,\\n    axis=1,\\n)\\nsummary_df[\\\"days_sales_inventory\\\"] = summary_df.apply(\\n    lambda x: x.mean_inventory / x.mean_picks if x.mean_picks != 0 else np.nan, axis=1\\n)\\nsummary_df[\\\"stockout_rate\\\"] = summary_df.apply(\\n    lambda x: x.days_w_stockout / x.days_of_data, axis=1\\n)\\nsummary_df[\\\"excess_rate\\\"] = summary_df.apply(\\n    lambda x: x.days_w_excess_inv / x.days_of_data, axis=1\\n)\\nsummary_df[\\\"scarce_rate\\\"] = summary_df.apply(\\n    lambda x: x.days_w_scarce_inv / x.days_of_data, axis=1\\n)\\nsummary_df[\\\"coef_var\\\"] = summary_df.apply(\\n    lambda x: x.std_dev_picks / x.mean_picks if x.mean_picks != 0 else np.nan, axis=1\\n)\\n\\nsummary_df.set_index(\\\"cleaned_med_id\\\", drop=True, inplace=True)\\nsummary_df.describe()\";\n",
       "                var nbb_formatted_code = \"summary_df[\\\"mean_inventory\\\"] = summary_df.apply(\\n    lambda x: ((x.mean_first_count + x.mean_last_count) / 2), axis=1\\n)\\nsummary_df[\\\"inv_turnover_ratio\\\"] = summary_df.apply(\\n    lambda x: x.total_picks / x.mean_inventory if x.mean_inventory != 0 else np.nan,\\n    axis=1,\\n)\\nsummary_df[\\\"days_sales_inventory\\\"] = summary_df.apply(\\n    lambda x: x.mean_inventory / x.mean_picks if x.mean_picks != 0 else np.nan, axis=1\\n)\\nsummary_df[\\\"stockout_rate\\\"] = summary_df.apply(\\n    lambda x: x.days_w_stockout / x.days_of_data, axis=1\\n)\\nsummary_df[\\\"excess_rate\\\"] = summary_df.apply(\\n    lambda x: x.days_w_excess_inv / x.days_of_data, axis=1\\n)\\nsummary_df[\\\"scarce_rate\\\"] = summary_df.apply(\\n    lambda x: x.days_w_scarce_inv / x.days_of_data, axis=1\\n)\\nsummary_df[\\\"coef_var\\\"] = summary_df.apply(\\n    lambda x: x.std_dev_picks / x.mean_picks if x.mean_picks != 0 else np.nan, axis=1\\n)\\n\\nsummary_df.set_index(\\\"cleaned_med_id\\\", drop=True, inplace=True)\\nsummary_df.describe()\";\n",
       "                var nbb_cells = Jupyter.notebook.get_cells();\n",
       "                for (var i = 0; i < nbb_cells.length; ++i) {\n",
       "                    if (nbb_cells[i].input_prompt_number == nbb_cell_id) {\n",
       "                        if (nbb_cells[i].get_text() == nbb_unformatted_code) {\n",
       "                             nbb_cells[i].set_text(nbb_formatted_code);\n",
       "                        }\n",
       "                        break;\n",
       "                    }\n",
       "                }\n",
       "            }, 500);\n",
       "            "
      ],
      "text/plain": [
       "<IPython.core.display.Javascript object>"
      ]
     },
     "metadata": {},
     "output_type": "display_data"
    }
   ],
   "source": [
    "summary_df[\"mean_inventory\"] = summary_df.apply(\n",
    "    lambda x: ((x.mean_first_count + x.mean_last_count) / 2), axis=1\n",
    ")\n",
    "summary_df[\"inv_turnover_ratio\"] = summary_df.apply(\n",
    "    lambda x: x.total_picks / x.mean_inventory if x.mean_inventory != 0 else np.nan,\n",
    "    axis=1,\n",
    ")\n",
    "summary_df[\"days_sales_inventory\"] = summary_df.apply(\n",
    "    lambda x: x.mean_inventory / x.mean_picks if x.mean_picks != 0 else np.nan, axis=1\n",
    ")\n",
    "summary_df[\"stockout_rate\"] = summary_df.apply(\n",
    "    lambda x: x.days_w_stockout / x.days_of_data, axis=1\n",
    ")\n",
    "summary_df[\"excess_rate\"] = summary_df.apply(\n",
    "    lambda x: x.days_w_excess_inv / x.days_of_data, axis=1\n",
    ")\n",
    "summary_df[\"scarce_rate\"] = summary_df.apply(\n",
    "    lambda x: x.days_w_scarce_inv / x.days_of_data, axis=1\n",
    ")\n",
    "summary_df[\"coef_var\"] = summary_df.apply(\n",
    "    lambda x: x.std_dev_picks / x.mean_picks if x.mean_picks != 0 else np.nan, axis=1\n",
    ")\n",
    "\n",
    "summary_df.set_index(\"cleaned_med_id\", drop=True, inplace=True)\n",
    "summary_df.describe()"
   ]
  },
  {
   "cell_type": "markdown",
   "id": "ldriathB4SZ5",
   "metadata": {
    "id": "ldriathB4SZ5"
   },
   "source": [
    "## Export Medication-level Data\n",
    "We'll now export a copy of the data frame containing the aggregate summary statistics. This will be used for local exploratory data analysis using Tableau and subsequent machine learning analyses."
   ]
  },
  {
   "cell_type": "code",
   "execution_count": 44,
   "id": "HSAcpQal4Afp",
   "metadata": {
    "executionInfo": {
     "elapsed": 1290,
     "status": "ok",
     "timestamp": 1723000546136,
     "user": {
      "displayName": "Kevin Steidler",
      "userId": "01990731876004348216"
     },
     "user_tz": 240
    },
    "id": "HSAcpQal4Afp"
   },
   "outputs": [
    {
     "data": {
      "application/javascript": [
       "\n",
       "            setTimeout(function() {\n",
       "                var nbb_cell_id = 44;\n",
       "                var nbb_unformatted_code = \"summary_df.to_csv(\\n    \\\"../outputs/inventory_summary_statistics_wo_anomalies.csv\\\", index=True\\n)\";\n",
       "                var nbb_formatted_code = \"summary_df.to_csv(\\n    \\\"../outputs/inventory_summary_statistics_wo_anomalies.csv\\\", index=True\\n)\";\n",
       "                var nbb_cells = Jupyter.notebook.get_cells();\n",
       "                for (var i = 0; i < nbb_cells.length; ++i) {\n",
       "                    if (nbb_cells[i].input_prompt_number == nbb_cell_id) {\n",
       "                        if (nbb_cells[i].get_text() == nbb_unformatted_code) {\n",
       "                             nbb_cells[i].set_text(nbb_formatted_code);\n",
       "                        }\n",
       "                        break;\n",
       "                    }\n",
       "                }\n",
       "            }, 500);\n",
       "            "
      ],
      "text/plain": [
       "<IPython.core.display.Javascript object>"
      ]
     },
     "metadata": {},
     "output_type": "display_data"
    }
   ],
   "source": [
    "summary_df.to_csv(\n",
    "    \"../outputs/inventory_summary_statistics_wo_anomalies.csv\", index=True\n",
    ")"
   ]
  }
 ],
 "metadata": {
  "colab": {
   "provenance": []
  },
  "kernelspec": {
   "display_name": "Python 3 (ipykernel)",
   "language": "python",
   "name": "python3"
  },
  "language_info": {
   "codemirror_mode": {
    "name": "ipython",
    "version": 3
   },
   "file_extension": ".py",
   "mimetype": "text/x-python",
   "name": "python",
   "nbconvert_exporter": "python",
   "pygments_lexer": "ipython3",
   "version": "3.9.19"
  }
 },
 "nbformat": 4,
 "nbformat_minor": 5
}
