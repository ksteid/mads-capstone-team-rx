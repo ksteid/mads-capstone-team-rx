version https://git-lfs.github.com/spec/v1
oid sha256:362b24bc28a3c4b3b0b57acf4ca1a6901e4544fc9bf5ef7b600a7a82f6b75333
size 131239
