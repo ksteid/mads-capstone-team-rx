version https://git-lfs.github.com/spec/v1
oid sha256:a91f2d47e552f931d2fb01f80cfdcac228b4f235248a72893bfed45cf4bd5694
size 1971652
