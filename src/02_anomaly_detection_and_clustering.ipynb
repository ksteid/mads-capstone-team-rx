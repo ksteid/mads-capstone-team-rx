version https://git-lfs.github.com/spec/v1
oid sha256:97da353277d75a29d4d8c3ee98a0b6ce3437ef5ad15846f48beb13e0bc9e70e3
size 1994651
